{
  "cells": [
    {
      "cell_type": "code",
      "source": [
        "%cd ..\r\n",
        "%ls"
      ],
      "outputs": [
        {
          "output_type": "stream",
          "name": "stdout",
          "text": [
            "/mnt/batch/tasks/shared/LS_root/mounts/clusters/tutorial-wysohn/code/Users/wysohn/AzureML-ResNet\n",
            "\u001b[0m\u001b[01;32mComputeInCluster.ipynb\u001b[0m*         \u001b[34;42msrc\u001b[0m/\r\n",
            "\u001b[01;32mReadme.md\u001b[0m*                      \u001b[34;42mtesting\u001b[0m/\r\n",
            "\u001b[01;32mcomputeincluster.ipynb.amltmp\u001b[0m*  \u001b[01;32mtrain_resnet.py\u001b[0m*\r\n",
            "\u001b[01;32mconda_dependencies.yml\u001b[0m*         \u001b[01;32mtrain_resnet.py.amltmp\u001b[0m*\r\n",
            "\u001b[01;32mconda_dependencies.yml.amltmp\u001b[0m*  \u001b[34;42mutil\u001b[0m/\r\n",
            "\u001b[34;42mexample\u001b[0m/\r\n"
          ]
        }
      ],
      "execution_count": 1,
      "metadata": {
        "collapsed": true,
        "jupyter": {
          "source_hidden": false,
          "outputs_hidden": false
        },
        "nteract": {
          "transient": {
            "deleting": false
          }
        }
      }
    },
    {
      "cell_type": "code",
      "source": [
        "import torch\r\n",
        "import torch.nn as nn\r\n",
        "import torch.nn.functional as F\r\n",
        "\r\n",
        "# non-square kernels and unequal stride and with padding and dilation\r\n",
        "m = nn.Conv2d(3, 64, (3, 3), stride=2, padding=(1, 1))\r\n",
        "input = torch.randn(32, 3, 224, 224)\r\n",
        "output = m(input)\r\n",
        "\r\n",
        "print(output.shape)"
      ],
      "outputs": [
        {
          "output_type": "stream",
          "name": "stdout",
          "text": [
            "torch.Size([32, 64, 112, 112])\n"
          ]
        }
      ],
      "execution_count": 2,
      "metadata": {
        "gather": {
          "logged": 1622262766452
        }
      }
    },
    {
      "cell_type": "code",
      "source": [
        "from src.resnet50_15 import BottleneckBlock, Resnet50v15, Resnet50v15Classifier\n",
        "\n",
        "input2 = torch.randn(8, 256, 112, 112)\n",
        "\n",
        "block = BottleneckBlock(64, True)\n",
        "block2 = BottleneckBlock(64)\n",
        "\n",
        "print(block(input2).shape) # with downsampling\n",
        "print(block2(input2).shape) # without downsampling"
      ],
      "outputs": [
        {
          "output_type": "stream",
          "name": "stdout",
          "text": [
            "torch.Size([8, 256, 56, 56])\n",
            "torch.Size([8, 256, 112, 112])\n"
          ]
        }
      ],
      "execution_count": 3,
      "metadata": {
        "collapsed": true,
        "jupyter": {
          "source_hidden": false,
          "outputs_hidden": false
        },
        "nteract": {
          "transient": {
            "deleting": false
          }
        },
        "gather": {
          "logged": 1622262767600
        }
      }
    },
    {
      "cell_type": "code",
      "source": [
        "print(block)"
      ],
      "outputs": [
        {
          "output_type": "stream",
          "name": "stdout",
          "text": [
            "BottleneckBlock(\n",
            "  (conv1): Conv2d(256, 64, kernel_size=(1, 1), stride=(1, 1))\n",
            "  (bn1): BatchNorm2d(64, eps=1e-05, momentum=0.1, affine=True, track_running_stats=True)\n",
            "  (rectifier1): ReLU()\n",
            "  (conv2): Conv2d(64, 64, kernel_size=(3, 3), stride=(2, 2), padding=(1, 1))\n",
            "  (bn2): BatchNorm2d(64, eps=1e-05, momentum=0.1, affine=True, track_running_stats=True)\n",
            "  (rectifier2): ReLU()\n",
            "  (conv3): Conv2d(64, 256, kernel_size=(1, 1), stride=(1, 1))\n",
            "  (bn3): BatchNorm2d(256, eps=1e-05, momentum=0.1, affine=True, track_running_stats=True)\n",
            "  (linProj): Conv2d(256, 256, kernel_size=(1, 1), stride=(2, 2))\n",
            "  (rectifier3): ReLU()\n",
            ")\n"
          ]
        }
      ],
      "execution_count": 4,
      "metadata": {
        "collapsed": true,
        "jupyter": {
          "source_hidden": false,
          "outputs_hidden": false
        },
        "nteract": {
          "transient": {
            "deleting": false
          }
        },
        "gather": {
          "logged": 1622262767763
        }
      }
    },
    {
      "cell_type": "code",
      "source": [
        "resnet = Resnet50v15()\r\n",
        "print(resnet)"
      ],
      "outputs": [
        {
          "output_type": "stream",
          "name": "stdout",
          "text": [
            "Resnet50v15(\n",
            "  (conv_pre): Conv2d(3, 64, kernel_size=(7, 7), stride=(2, 2), padding=(3, 3))\n",
            "  (max_pool): MaxPool2d(kernel_size=3, stride=2, padding=1, dilation=1, ceil_mode=False)\n",
            "  (conv): ModuleList(\n",
            "    (0): Conv2d(64, 256, kernel_size=(1, 1), stride=(1, 1))\n",
            "    (1): BottleneckBlock(\n",
            "      (conv1): Conv2d(256, 64, kernel_size=(1, 1), stride=(1, 1))\n",
            "      (bn1): BatchNorm2d(64, eps=1e-05, momentum=0.1, affine=True, track_running_stats=True)\n",
            "      (rectifier1): ReLU()\n",
            "      (conv2): Conv2d(64, 64, kernel_size=(3, 3), stride=(1, 1), padding=(1, 1))\n",
            "      (bn2): BatchNorm2d(64, eps=1e-05, momentum=0.1, affine=True, track_running_stats=True)\n",
            "      (rectifier2): ReLU()\n",
            "      (conv3): Conv2d(64, 256, kernel_size=(1, 1), stride=(1, 1))\n",
            "      (bn3): BatchNorm2d(256, eps=1e-05, momentum=0.1, affine=True, track_running_stats=True)\n",
            "      (rectifier3): ReLU()\n",
            "    )\n",
            "    (2): BottleneckBlock(\n",
            "      (conv1): Conv2d(256, 64, kernel_size=(1, 1), stride=(1, 1))\n",
            "      (bn1): BatchNorm2d(64, eps=1e-05, momentum=0.1, affine=True, track_running_stats=True)\n",
            "      (rectifier1): ReLU()\n",
            "      (conv2): Conv2d(64, 64, kernel_size=(3, 3), stride=(1, 1), padding=(1, 1))\n",
            "      (bn2): BatchNorm2d(64, eps=1e-05, momentum=0.1, affine=True, track_running_stats=True)\n",
            "      (rectifier2): ReLU()\n",
            "      (conv3): Conv2d(64, 256, kernel_size=(1, 1), stride=(1, 1))\n",
            "      (bn3): BatchNorm2d(256, eps=1e-05, momentum=0.1, affine=True, track_running_stats=True)\n",
            "      (rectifier3): ReLU()\n",
            "    )\n",
            "    (3): BottleneckBlock(\n",
            "      (conv1): Conv2d(256, 64, kernel_size=(1, 1), stride=(1, 1))\n",
            "      (bn1): BatchNorm2d(64, eps=1e-05, momentum=0.1, affine=True, track_running_stats=True)\n",
            "      (rectifier1): ReLU()\n",
            "      (conv2): Conv2d(64, 64, kernel_size=(3, 3), stride=(1, 1), padding=(1, 1))\n",
            "      (bn2): BatchNorm2d(64, eps=1e-05, momentum=0.1, affine=True, track_running_stats=True)\n",
            "      (rectifier2): ReLU()\n",
            "      (conv3): Conv2d(64, 256, kernel_size=(1, 1), stride=(1, 1))\n",
            "      (bn3): BatchNorm2d(256, eps=1e-05, momentum=0.1, affine=True, track_running_stats=True)\n",
            "      (rectifier3): ReLU()\n",
            "    )\n",
            "    (4): Conv2d(256, 512, kernel_size=(1, 1), stride=(1, 1))\n",
            "    (5): BottleneckBlock(\n",
            "      (conv1): Conv2d(512, 128, kernel_size=(1, 1), stride=(1, 1))\n",
            "      (bn1): BatchNorm2d(128, eps=1e-05, momentum=0.1, affine=True, track_running_stats=True)\n",
            "      (rectifier1): ReLU()\n",
            "      (conv2): Conv2d(128, 128, kernel_size=(3, 3), stride=(2, 2), padding=(1, 1))\n",
            "      (bn2): BatchNorm2d(128, eps=1e-05, momentum=0.1, affine=True, track_running_stats=True)\n",
            "      (rectifier2): ReLU()\n",
            "      (conv3): Conv2d(128, 512, kernel_size=(1, 1), stride=(1, 1))\n",
            "      (bn3): BatchNorm2d(512, eps=1e-05, momentum=0.1, affine=True, track_running_stats=True)\n",
            "      (linProj): Conv2d(512, 512, kernel_size=(1, 1), stride=(2, 2))\n",
            "      (rectifier3): ReLU()\n",
            "    )\n",
            "    (6): BottleneckBlock(\n",
            "      (conv1): Conv2d(512, 128, kernel_size=(1, 1), stride=(1, 1))\n",
            "      (bn1): BatchNorm2d(128, eps=1e-05, momentum=0.1, affine=True, track_running_stats=True)\n",
            "      (rectifier1): ReLU()\n",
            "      (conv2): Conv2d(128, 128, kernel_size=(3, 3), stride=(1, 1), padding=(1, 1))\n",
            "      (bn2): BatchNorm2d(128, eps=1e-05, momentum=0.1, affine=True, track_running_stats=True)\n",
            "      (rectifier2): ReLU()\n",
            "      (conv3): Conv2d(128, 512, kernel_size=(1, 1), stride=(1, 1))\n",
            "      (bn3): BatchNorm2d(512, eps=1e-05, momentum=0.1, affine=True, track_running_stats=True)\n",
            "      (rectifier3): ReLU()\n",
            "    )\n",
            "    (7): BottleneckBlock(\n",
            "      (conv1): Conv2d(512, 128, kernel_size=(1, 1), stride=(1, 1))\n",
            "      (bn1): BatchNorm2d(128, eps=1e-05, momentum=0.1, affine=True, track_running_stats=True)\n",
            "      (rectifier1): ReLU()\n",
            "      (conv2): Conv2d(128, 128, kernel_size=(3, 3), stride=(1, 1), padding=(1, 1))\n",
            "      (bn2): BatchNorm2d(128, eps=1e-05, momentum=0.1, affine=True, track_running_stats=True)\n",
            "      (rectifier2): ReLU()\n",
            "      (conv3): Conv2d(128, 512, kernel_size=(1, 1), stride=(1, 1))\n",
            "      (bn3): BatchNorm2d(512, eps=1e-05, momentum=0.1, affine=True, track_running_stats=True)\n",
            "      (rectifier3): ReLU()\n",
            "    )\n",
            "    (8): BottleneckBlock(\n",
            "      (conv1): Conv2d(512, 128, kernel_size=(1, 1), stride=(1, 1))\n",
            "      (bn1): BatchNorm2d(128, eps=1e-05, momentum=0.1, affine=True, track_running_stats=True)\n",
            "      (rectifier1): ReLU()\n",
            "      (conv2): Conv2d(128, 128, kernel_size=(3, 3), stride=(1, 1), padding=(1, 1))\n",
            "      (bn2): BatchNorm2d(128, eps=1e-05, momentum=0.1, affine=True, track_running_stats=True)\n",
            "      (rectifier2): ReLU()\n",
            "      (conv3): Conv2d(128, 512, kernel_size=(1, 1), stride=(1, 1))\n",
            "      (bn3): BatchNorm2d(512, eps=1e-05, momentum=0.1, affine=True, track_running_stats=True)\n",
            "      (rectifier3): ReLU()\n",
            "    )\n",
            "    (9): Conv2d(512, 1024, kernel_size=(1, 1), stride=(1, 1))\n",
            "    (10): BottleneckBlock(\n",
            "      (conv1): Conv2d(1024, 256, kernel_size=(1, 1), stride=(1, 1))\n",
            "      (bn1): BatchNorm2d(256, eps=1e-05, momentum=0.1, affine=True, track_running_stats=True)\n",
            "      (rectifier1): ReLU()\n",
            "      (conv2): Conv2d(256, 256, kernel_size=(3, 3), stride=(2, 2), padding=(1, 1))\n",
            "      (bn2): BatchNorm2d(256, eps=1e-05, momentum=0.1, affine=True, track_running_stats=True)\n",
            "      (rectifier2): ReLU()\n",
            "      (conv3): Conv2d(256, 1024, kernel_size=(1, 1), stride=(1, 1))\n",
            "      (bn3): BatchNorm2d(1024, eps=1e-05, momentum=0.1, affine=True, track_running_stats=True)\n",
            "      (linProj): Conv2d(1024, 1024, kernel_size=(1, 1), stride=(2, 2))\n",
            "      (rectifier3): ReLU()\n",
            "    )\n",
            "    (11): BottleneckBlock(\n",
            "      (conv1): Conv2d(1024, 256, kernel_size=(1, 1), stride=(1, 1))\n",
            "      (bn1): BatchNorm2d(256, eps=1e-05, momentum=0.1, affine=True, track_running_stats=True)\n",
            "      (rectifier1): ReLU()\n",
            "      (conv2): Conv2d(256, 256, kernel_size=(3, 3), stride=(1, 1), padding=(1, 1))\n",
            "      (bn2): BatchNorm2d(256, eps=1e-05, momentum=0.1, affine=True, track_running_stats=True)\n",
            "      (rectifier2): ReLU()\n",
            "      (conv3): Conv2d(256, 1024, kernel_size=(1, 1), stride=(1, 1))\n",
            "      (bn3): BatchNorm2d(1024, eps=1e-05, momentum=0.1, affine=True, track_running_stats=True)\n",
            "      (rectifier3): ReLU()\n",
            "    )\n",
            "    (12): BottleneckBlock(\n",
            "      (conv1): Conv2d(1024, 256, kernel_size=(1, 1), stride=(1, 1))\n",
            "      (bn1): BatchNorm2d(256, eps=1e-05, momentum=0.1, affine=True, track_running_stats=True)\n",
            "      (rectifier1): ReLU()\n",
            "      (conv2): Conv2d(256, 256, kernel_size=(3, 3), stride=(1, 1), padding=(1, 1))\n",
            "      (bn2): BatchNorm2d(256, eps=1e-05, momentum=0.1, affine=True, track_running_stats=True)\n",
            "      (rectifier2): ReLU()\n",
            "      (conv3): Conv2d(256, 1024, kernel_size=(1, 1), stride=(1, 1))\n",
            "      (bn3): BatchNorm2d(1024, eps=1e-05, momentum=0.1, affine=True, track_running_stats=True)\n",
            "      (rectifier3): ReLU()\n",
            "    )\n",
            "    (13): BottleneckBlock(\n",
            "      (conv1): Conv2d(1024, 256, kernel_size=(1, 1), stride=(1, 1))\n",
            "      (bn1): BatchNorm2d(256, eps=1e-05, momentum=0.1, affine=True, track_running_stats=True)\n",
            "      (rectifier1): ReLU()\n",
            "      (conv2): Conv2d(256, 256, kernel_size=(3, 3), stride=(1, 1), padding=(1, 1))\n",
            "      (bn2): BatchNorm2d(256, eps=1e-05, momentum=0.1, affine=True, track_running_stats=True)\n",
            "      (rectifier2): ReLU()\n",
            "      (conv3): Conv2d(256, 1024, kernel_size=(1, 1), stride=(1, 1))\n",
            "      (bn3): BatchNorm2d(1024, eps=1e-05, momentum=0.1, affine=True, track_running_stats=True)\n",
            "      (rectifier3): ReLU()\n",
            "    )\n",
            "    (14): BottleneckBlock(\n",
            "      (conv1): Conv2d(1024, 256, kernel_size=(1, 1), stride=(1, 1))\n",
            "      (bn1): BatchNorm2d(256, eps=1e-05, momentum=0.1, affine=True, track_running_stats=True)\n",
            "      (rectifier1): ReLU()\n",
            "      (conv2): Conv2d(256, 256, kernel_size=(3, 3), stride=(1, 1), padding=(1, 1))\n",
            "      (bn2): BatchNorm2d(256, eps=1e-05, momentum=0.1, affine=True, track_running_stats=True)\n",
            "      (rectifier2): ReLU()\n",
            "      (conv3): Conv2d(256, 1024, kernel_size=(1, 1), stride=(1, 1))\n",
            "      (bn3): BatchNorm2d(1024, eps=1e-05, momentum=0.1, affine=True, track_running_stats=True)\n",
            "      (rectifier3): ReLU()\n",
            "    )\n",
            "    (15): BottleneckBlock(\n",
            "      (conv1): Conv2d(1024, 256, kernel_size=(1, 1), stride=(1, 1))\n",
            "      (bn1): BatchNorm2d(256, eps=1e-05, momentum=0.1, affine=True, track_running_stats=True)\n",
            "      (rectifier1): ReLU()\n",
            "      (conv2): Conv2d(256, 256, kernel_size=(3, 3), stride=(1, 1), padding=(1, 1))\n",
            "      (bn2): BatchNorm2d(256, eps=1e-05, momentum=0.1, affine=True, track_running_stats=True)\n",
            "      (rectifier2): ReLU()\n",
            "      (conv3): Conv2d(256, 1024, kernel_size=(1, 1), stride=(1, 1))\n",
            "      (bn3): BatchNorm2d(1024, eps=1e-05, momentum=0.1, affine=True, track_running_stats=True)\n",
            "      (rectifier3): ReLU()\n",
            "    )\n",
            "    (16): Conv2d(1024, 2048, kernel_size=(1, 1), stride=(1, 1))\n",
            "    (17): BottleneckBlock(\n",
            "      (conv1): Conv2d(2048, 512, kernel_size=(1, 1), stride=(1, 1))\n",
            "      (bn1): BatchNorm2d(512, eps=1e-05, momentum=0.1, affine=True, track_running_stats=True)\n",
            "      (rectifier1): ReLU()\n",
            "      (conv2): Conv2d(512, 512, kernel_size=(3, 3), stride=(2, 2), padding=(1, 1))\n",
            "      (bn2): BatchNorm2d(512, eps=1e-05, momentum=0.1, affine=True, track_running_stats=True)\n",
            "      (rectifier2): ReLU()\n",
            "      (conv3): Conv2d(512, 2048, kernel_size=(1, 1), stride=(1, 1))\n",
            "      (bn3): BatchNorm2d(2048, eps=1e-05, momentum=0.1, affine=True, track_running_stats=True)\n",
            "      (linProj): Conv2d(2048, 2048, kernel_size=(1, 1), stride=(2, 2))\n",
            "      (rectifier3): ReLU()\n",
            "    )\n",
            "    (18): BottleneckBlock(\n",
            "      (conv1): Conv2d(2048, 512, kernel_size=(1, 1), stride=(1, 1))\n",
            "      (bn1): BatchNorm2d(512, eps=1e-05, momentum=0.1, affine=True, track_running_stats=True)\n",
            "      (rectifier1): ReLU()\n",
            "      (conv2): Conv2d(512, 512, kernel_size=(3, 3), stride=(1, 1), padding=(1, 1))\n",
            "      (bn2): BatchNorm2d(512, eps=1e-05, momentum=0.1, affine=True, track_running_stats=True)\n",
            "      (rectifier2): ReLU()\n",
            "      (conv3): Conv2d(512, 2048, kernel_size=(1, 1), stride=(1, 1))\n",
            "      (bn3): BatchNorm2d(2048, eps=1e-05, momentum=0.1, affine=True, track_running_stats=True)\n",
            "      (rectifier3): ReLU()\n",
            "    )\n",
            "    (19): BottleneckBlock(\n",
            "      (conv1): Conv2d(2048, 512, kernel_size=(1, 1), stride=(1, 1))\n",
            "      (bn1): BatchNorm2d(512, eps=1e-05, momentum=0.1, affine=True, track_running_stats=True)\n",
            "      (rectifier1): ReLU()\n",
            "      (conv2): Conv2d(512, 512, kernel_size=(3, 3), stride=(1, 1), padding=(1, 1))\n",
            "      (bn2): BatchNorm2d(512, eps=1e-05, momentum=0.1, affine=True, track_running_stats=True)\n",
            "      (rectifier2): ReLU()\n",
            "      (conv3): Conv2d(512, 2048, kernel_size=(1, 1), stride=(1, 1))\n",
            "      (bn3): BatchNorm2d(2048, eps=1e-05, momentum=0.1, affine=True, track_running_stats=True)\n",
            "      (rectifier3): ReLU()\n",
            "    )\n",
            "  )\n",
            "  (avg_pool): AvgPool2d(kernel_size=7, stride=7, padding=0)\n",
            ")\n"
          ]
        }
      ],
      "execution_count": 5,
      "metadata": {
        "collapsed": true,
        "jupyter": {
          "source_hidden": false,
          "outputs_hidden": false
        },
        "nteract": {
          "transient": {
            "deleting": false
          }
        },
        "gather": {
          "logged": 1622262767930
        }
      }
    },
    {
      "cell_type": "code",
      "source": [
        "resnet_classifier = Resnet50v15Classifier(resnet, classes=200, softmax=False)\r\n",
        "print(resnet_classifier)"
      ],
      "outputs": [
        {
          "output_type": "stream",
          "name": "stdout",
          "text": [
            "Resnet50v15Classifier(\n",
            "  (resnet_module): Resnet50v15(\n",
            "    (conv_pre): Conv2d(3, 64, kernel_size=(7, 7), stride=(2, 2), padding=(3, 3))\n",
            "    (max_pool): MaxPool2d(kernel_size=3, stride=2, padding=1, dilation=1, ceil_mode=False)\n",
            "    (conv): ModuleList(\n",
            "      (0): Conv2d(64, 256, kernel_size=(1, 1), stride=(1, 1))\n",
            "      (1): BottleneckBlock(\n",
            "        (conv1): Conv2d(256, 64, kernel_size=(1, 1), stride=(1, 1))\n",
            "        (bn1): BatchNorm2d(64, eps=1e-05, momentum=0.1, affine=True, track_running_stats=True)\n",
            "        (rectifier1): ReLU()\n",
            "        (conv2): Conv2d(64, 64, kernel_size=(3, 3), stride=(1, 1), padding=(1, 1))\n",
            "        (bn2): BatchNorm2d(64, eps=1e-05, momentum=0.1, affine=True, track_running_stats=True)\n",
            "        (rectifier2): ReLU()\n",
            "        (conv3): Conv2d(64, 256, kernel_size=(1, 1), stride=(1, 1))\n",
            "        (bn3): BatchNorm2d(256, eps=1e-05, momentum=0.1, affine=True, track_running_stats=True)\n",
            "        (rectifier3): ReLU()\n",
            "      )\n",
            "      (2): BottleneckBlock(\n",
            "        (conv1): Conv2d(256, 64, kernel_size=(1, 1), stride=(1, 1))\n",
            "        (bn1): BatchNorm2d(64, eps=1e-05, momentum=0.1, affine=True, track_running_stats=True)\n",
            "        (rectifier1): ReLU()\n",
            "        (conv2): Conv2d(64, 64, kernel_size=(3, 3), stride=(1, 1), padding=(1, 1))\n",
            "        (bn2): BatchNorm2d(64, eps=1e-05, momentum=0.1, affine=True, track_running_stats=True)\n",
            "        (rectifier2): ReLU()\n",
            "        (conv3): Conv2d(64, 256, kernel_size=(1, 1), stride=(1, 1))\n",
            "        (bn3): BatchNorm2d(256, eps=1e-05, momentum=0.1, affine=True, track_running_stats=True)\n",
            "        (rectifier3): ReLU()\n",
            "      )\n",
            "      (3): BottleneckBlock(\n",
            "        (conv1): Conv2d(256, 64, kernel_size=(1, 1), stride=(1, 1))\n",
            "        (bn1): BatchNorm2d(64, eps=1e-05, momentum=0.1, affine=True, track_running_stats=True)\n",
            "        (rectifier1): ReLU()\n",
            "        (conv2): Conv2d(64, 64, kernel_size=(3, 3), stride=(1, 1), padding=(1, 1))\n",
            "        (bn2): BatchNorm2d(64, eps=1e-05, momentum=0.1, affine=True, track_running_stats=True)\n",
            "        (rectifier2): ReLU()\n",
            "        (conv3): Conv2d(64, 256, kernel_size=(1, 1), stride=(1, 1))\n",
            "        (bn3): BatchNorm2d(256, eps=1e-05, momentum=0.1, affine=True, track_running_stats=True)\n",
            "        (rectifier3): ReLU()\n",
            "      )\n",
            "      (4): Conv2d(256, 512, kernel_size=(1, 1), stride=(1, 1))\n",
            "      (5): BottleneckBlock(\n",
            "        (conv1): Conv2d(512, 128, kernel_size=(1, 1), stride=(1, 1))\n",
            "        (bn1): BatchNorm2d(128, eps=1e-05, momentum=0.1, affine=True, track_running_stats=True)\n",
            "        (rectifier1): ReLU()\n",
            "        (conv2): Conv2d(128, 128, kernel_size=(3, 3), stride=(2, 2), padding=(1, 1))\n",
            "        (bn2): BatchNorm2d(128, eps=1e-05, momentum=0.1, affine=True, track_running_stats=True)\n",
            "        (rectifier2): ReLU()\n",
            "        (conv3): Conv2d(128, 512, kernel_size=(1, 1), stride=(1, 1))\n",
            "        (bn3): BatchNorm2d(512, eps=1e-05, momentum=0.1, affine=True, track_running_stats=True)\n",
            "        (linProj): Conv2d(512, 512, kernel_size=(1, 1), stride=(2, 2))\n",
            "        (rectifier3): ReLU()\n",
            "      )\n",
            "      (6): BottleneckBlock(\n",
            "        (conv1): Conv2d(512, 128, kernel_size=(1, 1), stride=(1, 1))\n",
            "        (bn1): BatchNorm2d(128, eps=1e-05, momentum=0.1, affine=True, track_running_stats=True)\n",
            "        (rectifier1): ReLU()\n",
            "        (conv2): Conv2d(128, 128, kernel_size=(3, 3), stride=(1, 1), padding=(1, 1))\n",
            "        (bn2): BatchNorm2d(128, eps=1e-05, momentum=0.1, affine=True, track_running_stats=True)\n",
            "        (rectifier2): ReLU()\n",
            "        (conv3): Conv2d(128, 512, kernel_size=(1, 1), stride=(1, 1))\n",
            "        (bn3): BatchNorm2d(512, eps=1e-05, momentum=0.1, affine=True, track_running_stats=True)\n",
            "        (rectifier3): ReLU()\n",
            "      )\n",
            "      (7): BottleneckBlock(\n",
            "        (conv1): Conv2d(512, 128, kernel_size=(1, 1), stride=(1, 1))\n",
            "        (bn1): BatchNorm2d(128, eps=1e-05, momentum=0.1, affine=True, track_running_stats=True)\n",
            "        (rectifier1): ReLU()\n",
            "        (conv2): Conv2d(128, 128, kernel_size=(3, 3), stride=(1, 1), padding=(1, 1))\n",
            "        (bn2): BatchNorm2d(128, eps=1e-05, momentum=0.1, affine=True, track_running_stats=True)\n",
            "        (rectifier2): ReLU()\n",
            "        (conv3): Conv2d(128, 512, kernel_size=(1, 1), stride=(1, 1))\n",
            "        (bn3): BatchNorm2d(512, eps=1e-05, momentum=0.1, affine=True, track_running_stats=True)\n",
            "        (rectifier3): ReLU()\n",
            "      )\n",
            "      (8): BottleneckBlock(\n",
            "        (conv1): Conv2d(512, 128, kernel_size=(1, 1), stride=(1, 1))\n",
            "        (bn1): BatchNorm2d(128, eps=1e-05, momentum=0.1, affine=True, track_running_stats=True)\n",
            "        (rectifier1): ReLU()\n",
            "        (conv2): Conv2d(128, 128, kernel_size=(3, 3), stride=(1, 1), padding=(1, 1))\n",
            "        (bn2): BatchNorm2d(128, eps=1e-05, momentum=0.1, affine=True, track_running_stats=True)\n",
            "        (rectifier2): ReLU()\n",
            "        (conv3): Conv2d(128, 512, kernel_size=(1, 1), stride=(1, 1))\n",
            "        (bn3): BatchNorm2d(512, eps=1e-05, momentum=0.1, affine=True, track_running_stats=True)\n",
            "        (rectifier3): ReLU()\n",
            "      )\n",
            "      (9): Conv2d(512, 1024, kernel_size=(1, 1), stride=(1, 1))\n",
            "      (10): BottleneckBlock(\n",
            "        (conv1): Conv2d(1024, 256, kernel_size=(1, 1), stride=(1, 1))\n",
            "        (bn1): BatchNorm2d(256, eps=1e-05, momentum=0.1, affine=True, track_running_stats=True)\n",
            "        (rectifier1): ReLU()\n",
            "        (conv2): Conv2d(256, 256, kernel_size=(3, 3), stride=(2, 2), padding=(1, 1))\n",
            "        (bn2): BatchNorm2d(256, eps=1e-05, momentum=0.1, affine=True, track_running_stats=True)\n",
            "        (rectifier2): ReLU()\n",
            "        (conv3): Conv2d(256, 1024, kernel_size=(1, 1), stride=(1, 1))\n",
            "        (bn3): BatchNorm2d(1024, eps=1e-05, momentum=0.1, affine=True, track_running_stats=True)\n",
            "        (linProj): Conv2d(1024, 1024, kernel_size=(1, 1), stride=(2, 2))\n",
            "        (rectifier3): ReLU()\n",
            "      )\n",
            "      (11): BottleneckBlock(\n",
            "        (conv1): Conv2d(1024, 256, kernel_size=(1, 1), stride=(1, 1))\n",
            "        (bn1): BatchNorm2d(256, eps=1e-05, momentum=0.1, affine=True, track_running_stats=True)\n",
            "        (rectifier1): ReLU()\n",
            "        (conv2): Conv2d(256, 256, kernel_size=(3, 3), stride=(1, 1), padding=(1, 1))\n",
            "        (bn2): BatchNorm2d(256, eps=1e-05, momentum=0.1, affine=True, track_running_stats=True)\n",
            "        (rectifier2): ReLU()\n",
            "        (conv3): Conv2d(256, 1024, kernel_size=(1, 1), stride=(1, 1))\n",
            "        (bn3): BatchNorm2d(1024, eps=1e-05, momentum=0.1, affine=True, track_running_stats=True)\n",
            "        (rectifier3): ReLU()\n",
            "      )\n",
            "      (12): BottleneckBlock(\n",
            "        (conv1): Conv2d(1024, 256, kernel_size=(1, 1), stride=(1, 1))\n",
            "        (bn1): BatchNorm2d(256, eps=1e-05, momentum=0.1, affine=True, track_running_stats=True)\n",
            "        (rectifier1): ReLU()\n",
            "        (conv2): Conv2d(256, 256, kernel_size=(3, 3), stride=(1, 1), padding=(1, 1))\n",
            "        (bn2): BatchNorm2d(256, eps=1e-05, momentum=0.1, affine=True, track_running_stats=True)\n",
            "        (rectifier2): ReLU()\n",
            "        (conv3): Conv2d(256, 1024, kernel_size=(1, 1), stride=(1, 1))\n",
            "        (bn3): BatchNorm2d(1024, eps=1e-05, momentum=0.1, affine=True, track_running_stats=True)\n",
            "        (rectifier3): ReLU()\n",
            "      )\n",
            "      (13): BottleneckBlock(\n",
            "        (conv1): Conv2d(1024, 256, kernel_size=(1, 1), stride=(1, 1))\n",
            "        (bn1): BatchNorm2d(256, eps=1e-05, momentum=0.1, affine=True, track_running_stats=True)\n",
            "        (rectifier1): ReLU()\n",
            "        (conv2): Conv2d(256, 256, kernel_size=(3, 3), stride=(1, 1), padding=(1, 1))\n",
            "        (bn2): BatchNorm2d(256, eps=1e-05, momentum=0.1, affine=True, track_running_stats=True)\n",
            "        (rectifier2): ReLU()\n",
            "        (conv3): Conv2d(256, 1024, kernel_size=(1, 1), stride=(1, 1))\n",
            "        (bn3): BatchNorm2d(1024, eps=1e-05, momentum=0.1, affine=True, track_running_stats=True)\n",
            "        (rectifier3): ReLU()\n",
            "      )\n",
            "      (14): BottleneckBlock(\n",
            "        (conv1): Conv2d(1024, 256, kernel_size=(1, 1), stride=(1, 1))\n",
            "        (bn1): BatchNorm2d(256, eps=1e-05, momentum=0.1, affine=True, track_running_stats=True)\n",
            "        (rectifier1): ReLU()\n",
            "        (conv2): Conv2d(256, 256, kernel_size=(3, 3), stride=(1, 1), padding=(1, 1))\n",
            "        (bn2): BatchNorm2d(256, eps=1e-05, momentum=0.1, affine=True, track_running_stats=True)\n",
            "        (rectifier2): ReLU()\n",
            "        (conv3): Conv2d(256, 1024, kernel_size=(1, 1), stride=(1, 1))\n",
            "        (bn3): BatchNorm2d(1024, eps=1e-05, momentum=0.1, affine=True, track_running_stats=True)\n",
            "        (rectifier3): ReLU()\n",
            "      )\n",
            "      (15): BottleneckBlock(\n",
            "        (conv1): Conv2d(1024, 256, kernel_size=(1, 1), stride=(1, 1))\n",
            "        (bn1): BatchNorm2d(256, eps=1e-05, momentum=0.1, affine=True, track_running_stats=True)\n",
            "        (rectifier1): ReLU()\n",
            "        (conv2): Conv2d(256, 256, kernel_size=(3, 3), stride=(1, 1), padding=(1, 1))\n",
            "        (bn2): BatchNorm2d(256, eps=1e-05, momentum=0.1, affine=True, track_running_stats=True)\n",
            "        (rectifier2): ReLU()\n",
            "        (conv3): Conv2d(256, 1024, kernel_size=(1, 1), stride=(1, 1))\n",
            "        (bn3): BatchNorm2d(1024, eps=1e-05, momentum=0.1, affine=True, track_running_stats=True)\n",
            "        (rectifier3): ReLU()\n",
            "      )\n",
            "      (16): Conv2d(1024, 2048, kernel_size=(1, 1), stride=(1, 1))\n",
            "      (17): BottleneckBlock(\n",
            "        (conv1): Conv2d(2048, 512, kernel_size=(1, 1), stride=(1, 1))\n",
            "        (bn1): BatchNorm2d(512, eps=1e-05, momentum=0.1, affine=True, track_running_stats=True)\n",
            "        (rectifier1): ReLU()\n",
            "        (conv2): Conv2d(512, 512, kernel_size=(3, 3), stride=(2, 2), padding=(1, 1))\n",
            "        (bn2): BatchNorm2d(512, eps=1e-05, momentum=0.1, affine=True, track_running_stats=True)\n",
            "        (rectifier2): ReLU()\n",
            "        (conv3): Conv2d(512, 2048, kernel_size=(1, 1), stride=(1, 1))\n",
            "        (bn3): BatchNorm2d(2048, eps=1e-05, momentum=0.1, affine=True, track_running_stats=True)\n",
            "        (linProj): Conv2d(2048, 2048, kernel_size=(1, 1), stride=(2, 2))\n",
            "        (rectifier3): ReLU()\n",
            "      )\n",
            "      (18): BottleneckBlock(\n",
            "        (conv1): Conv2d(2048, 512, kernel_size=(1, 1), stride=(1, 1))\n",
            "        (bn1): BatchNorm2d(512, eps=1e-05, momentum=0.1, affine=True, track_running_stats=True)\n",
            "        (rectifier1): ReLU()\n",
            "        (conv2): Conv2d(512, 512, kernel_size=(3, 3), stride=(1, 1), padding=(1, 1))\n",
            "        (bn2): BatchNorm2d(512, eps=1e-05, momentum=0.1, affine=True, track_running_stats=True)\n",
            "        (rectifier2): ReLU()\n",
            "        (conv3): Conv2d(512, 2048, kernel_size=(1, 1), stride=(1, 1))\n",
            "        (bn3): BatchNorm2d(2048, eps=1e-05, momentum=0.1, affine=True, track_running_stats=True)\n",
            "        (rectifier3): ReLU()\n",
            "      )\n",
            "      (19): BottleneckBlock(\n",
            "        (conv1): Conv2d(2048, 512, kernel_size=(1, 1), stride=(1, 1))\n",
            "        (bn1): BatchNorm2d(512, eps=1e-05, momentum=0.1, affine=True, track_running_stats=True)\n",
            "        (rectifier1): ReLU()\n",
            "        (conv2): Conv2d(512, 512, kernel_size=(3, 3), stride=(1, 1), padding=(1, 1))\n",
            "        (bn2): BatchNorm2d(512, eps=1e-05, momentum=0.1, affine=True, track_running_stats=True)\n",
            "        (rectifier2): ReLU()\n",
            "        (conv3): Conv2d(512, 2048, kernel_size=(1, 1), stride=(1, 1))\n",
            "        (bn3): BatchNorm2d(2048, eps=1e-05, momentum=0.1, affine=True, track_running_stats=True)\n",
            "        (rectifier3): ReLU()\n",
            "      )\n",
            "    )\n",
            "    (avg_pool): AvgPool2d(kernel_size=7, stride=7, padding=0)\n",
            "  )\n",
            "  (linear): Linear(in_features=2048, out_features=200, bias=True)\n",
            ")\n"
          ]
        }
      ],
      "execution_count": 7,
      "metadata": {
        "collapsed": true,
        "jupyter": {
          "source_hidden": false,
          "outputs_hidden": false
        },
        "nteract": {
          "transient": {
            "deleting": false
          }
        },
        "gather": {
          "logged": 1622262776009
        }
      }
    }
  ],
  "metadata": {
    "kernelspec": {
      "name": "python3-azureml",
      "language": "python",
      "display_name": "Python 3.6 - AzureML"
    },
    "language_info": {
      "name": "python",
      "version": "3.6.9",
      "mimetype": "text/x-python",
      "codemirror_mode": {
        "name": "ipython",
        "version": 3
      },
      "pygments_lexer": "ipython3",
      "nbconvert_exporter": "python",
      "file_extension": ".py"
    },
    "kernel_info": {
      "name": "python3-azureml"
    },
    "microsoft": {
      "host": {
        "AzureML": {
          "notebookHasBeenCompleted": true
        }
      }
    },
    "nteract": {
      "version": "nteract-front-end@1.0.0"
    }
  },
  "nbformat": 4,
  "nbformat_minor": 2
}