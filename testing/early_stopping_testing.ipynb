{
  "cells": [
    {
      "cell_type": "code",
      "source": [
        "%cd ..\r\n",
        "%ls"
      ],
      "outputs": [
        {
          "output_type": "stream",
          "name": "stdout",
          "text": [
            "/mnt/batch/tasks/shared/LS_root/mounts/clusters/tutorial-wysohn/code/Users/wysohn/AzureML-ResNet\n",
            "\u001b[0m\u001b[34;42mexample\u001b[0m/  \u001b[34;42msrc\u001b[0m/  \u001b[34;42mtesting\u001b[0m/  \u001b[34;42mutil\u001b[0m/\r\n"
          ]
        }
      ],
      "execution_count": 1,
      "metadata": {}
    },
    {
      "cell_type": "code",
      "source": [
        "from util.early_stopping import EarlyStopping\r\n",
        "\r\n",
        "early_stopping = EarlyStopping()\r\n",
        "\r\n",
        "losses = list([x / 10.0 for x in range(50, 10)]) + [1.1, 1.0, 0.9, 0.99, 0.98, 0.9, 0.97, 0.88, 0.98, 0.99, 0.998]\r\n",
        "\r\n",
        "for loss in losses:\r\n",
        "    if not early_stopping(loss):\r\n",
        "        break"
      ],
      "outputs": [
        {
          "output_type": "stream",
          "name": "stdout",
          "text": [
            "[Early Stopping] No improvements 1/5. Val loss: 0.99\n",
            "[Early Stopping] No improvements 2/5. Val loss: 0.98\n",
            "[Early Stopping] No improvements 3/5. Val loss: 0.9\n",
            "[Early Stopping] No improvements 4/5. Val loss: 0.97\n",
            "[Early Stopping] No improvements 5/5. Val loss: 0.98\n",
            "[Early Stopping] Patience limit reached.\n"
          ]
        }
      ],
      "execution_count": 2,
      "metadata": {
        "collapsed": true,
        "jupyter": {
          "source_hidden": false,
          "outputs_hidden": false
        },
        "nteract": {
          "transient": {
            "deleting": false
          }
        },
        "gather": {
          "logged": 1622057375943
        }
      }
    }
  ],
  "metadata": {
    "kernelspec": {
      "name": "python3-azureml",
      "language": "python",
      "display_name": "Python 3.6 - AzureML"
    },
    "language_info": {
      "name": "python",
      "version": "3.6.9",
      "mimetype": "text/x-python",
      "codemirror_mode": {
        "name": "ipython",
        "version": 3
      },
      "pygments_lexer": "ipython3",
      "nbconvert_exporter": "python",
      "file_extension": ".py"
    },
    "kernel_info": {
      "name": "python3-azureml"
    },
    "nteract": {
      "version": "nteract-front-end@1.0.0"
    }
  },
  "nbformat": 4,
  "nbformat_minor": 2
}