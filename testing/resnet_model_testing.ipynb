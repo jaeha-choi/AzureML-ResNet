{
 "cells": [
  {
   "cell_type": "code",
   "source": [
    "import torch\n",
    "from src.resnet50_15 import Resnet50v15\n",
    "from util.tiny_imagenet import TinyImagenet\n",
    "\n",
    "image = torch.randn(8, 3, 224, 224)\n",
    "# print(resnet(image).shape)\n",
    "resnet = Resnet50v15()\n",
    "\n",
    "dataset = TinyImagenet(base_dir=\"./dataset/\")\n",
    "for pic in dataset:\n",
    "    tensor, label = pic\n",
    "    print(tensor)\n",
    "    print(label)\n",
    "    print(dataset.int2name[label])\n",
    "    break\n"
   ],
   "outputs": [
    {
     "name": "stdout",
     "output_type": "stream",
     "text": [
      "tensor([[[ 30,  24,  10],\n",
      "         [ 21,  19,   6],\n",
      "         [ 14,  20,   8],\n",
      "         ...,\n",
      "         [ 12,   9,   2],\n",
      "         [  0,   1,   0],\n",
      "         [  3,   7,   8]],\n",
      "\n",
      "        [[ 40,  32,  19],\n",
      "         [ 27,  25,  12],\n",
      "         [ 16,  22,  10],\n",
      "         ...,\n",
      "         [ 20,  15,   9],\n",
      "         [  0,   0,   0],\n",
      "         [  2,   6,   7]],\n",
      "\n",
      "        [[ 67,  59,  46],\n",
      "         [ 51,  47,  35],\n",
      "         [ 31,  37,  25],\n",
      "         ...,\n",
      "         [ 26,  21,  15],\n",
      "         [  1,   0,   0],\n",
      "         [  1,   2,   4]],\n",
      "\n",
      "        ...,\n",
      "\n",
      "        [[ 18,   2,   2],\n",
      "         [ 17,   5,   5],\n",
      "         [ 11,   7,   4],\n",
      "         ...,\n",
      "         [ 49,  49,  37],\n",
      "         [ 91,  91,  79],\n",
      "         [ 95,  95,  83]],\n",
      "\n",
      "        [[ 18,   2,   2],\n",
      "         [ 17,   5,   5],\n",
      "         [ 12,   7,   4],\n",
      "         ...,\n",
      "         [ 64,  64,  52],\n",
      "         [104, 104,  92],\n",
      "         [ 92,  92,  80]],\n",
      "\n",
      "        [[ 19,   1,   1],\n",
      "         [ 19,   5,   5],\n",
      "         [ 12,   7,   4],\n",
      "         ...,\n",
      "         [ 65,  65,  53],\n",
      "         [ 97,  97,  85],\n",
      "         [ 70,  70,  58]]], dtype=torch.uint8)\n",
      "19632\n",
      "iPod\n"
     ]
    }
   ],
   "execution_count": 9,
   "metadata": {
    "collapsed": true,
    "jupyter": {
     "source_hidden": false,
     "outputs_hidden": false
    },
    "nteract": {
     "transient": {
      "deleting": false
     }
    },
    "gather": {
     "logged": 1620538058074
    }
   }
  }
 ],
 "metadata": {
  "kernelspec": {
   "name": "python3",
   "language": "python",
   "display_name": "Python 3"
  },
  "language_info": {
   "name": "python",
   "version": "3.6.9",
   "mimetype": "text/x-python",
   "codemirror_mode": {
    "name": "ipython",
    "version": 3
   },
   "pygments_lexer": "ipython3",
   "nbconvert_exporter": "python",
   "file_extension": ".py"
  },
  "kernel_info": {
   "name": "python3-azureml"
  },
  "microsoft": {
   "host": {
    "AzureML": {
     "notebookHasBeenCompleted": true
    }
   }
  },
  "nteract": {
   "version": "nteract-front-end@1.0.0"
  }
 },
 "nbformat": 4,
 "nbformat_minor": 2
}