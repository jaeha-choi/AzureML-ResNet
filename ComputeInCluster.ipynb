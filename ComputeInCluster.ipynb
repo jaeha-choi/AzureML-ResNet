{
 "cells": [
  {
   "cell_type": "code",
   "source": [
    "import os\n",
    "import shutil\n",
    "\n",
    "from azureml.core.workspace import Workspace\n",
    "from azureml.core import Experiment\n",
    "from azureml.core import Environment\n",
    "\n",
    "from azureml.core.compute import ComputeTarget, AmlCompute\n",
    "from azureml.core.compute_target import ComputeTargetException"
   ],
   "outputs": [],
   "execution_count": 1,
   "metadata": {
    "gather": {
     "logged": 1622602949259
    }
   }
  },
  {
   "cell_type": "code",
   "source": [
    "ws = Workspace.from_config()\n",
    "ws"
   ],
   "outputs": [
    {
     "data": {
      "text/plain": "Workspace.create(name='ResNet', subscription_id='92c76a2f-0e1c-4216-b65e-abf7a3f34c1e', resource_group='AzureML_UW_ResNet')"
     },
     "execution_count": 2,
     "metadata": {},
     "output_type": "execute_result"
    }
   ],
   "execution_count": 2,
   "metadata": {
    "collapsed": true,
    "jupyter": {
     "source_hidden": false,
     "outputs_hidden": false
    },
    "nteract": {
     "transient": {
      "deleting": false
     }
    },
    "gather": {
     "logged": 1622602949849
    }
   }
  },
  {
   "cell_type": "code",
   "source": [
    "# cluster_name = \"ML-CPU-test\"\n",
    "cluster_name = \"ML-GPU-test\"\n",
    "compute_target = None\n",
    "\n",
    "try:\n",
    "    compute_target = ComputeTarget(workspace=ws, name=cluster_name)\n",
    "    print('Found existing compute target')\n",
    "except ComputeTargetException:\n",
    "    print('No compute cluster named {}'.format(cluster_name))\n",
    "    exit()"
   ],
   "outputs": [
    {
     "name": "stdout",
     "output_type": "stream",
     "text": [
      "Found existing compute target\n"
     ]
    }
   ],
   "execution_count": 3,
   "metadata": {
    "collapsed": true,
    "jupyter": {
     "source_hidden": false,
     "outputs_hidden": false
    },
    "nteract": {
     "transient": {
      "deleting": false
     }
    },
    "gather": {
     "logged": 1622602950336
    }
   }
  },
  {
   "cell_type": "code",
   "source": [
    "curated_env_name = 'Resnet50v15-CPU-cluster'\n",
    "#pytorch_env = Environment.get(workspace=ws, name=curated_env_name)\n",
    "pytorch_env = Environment.from_conda_specification(name=curated_env_name, file_path='./conda_dependencies.yml')"
   ],
   "outputs": [],
   "execution_count": 4,
   "metadata": {
    "collapsed": true,
    "jupyter": {
     "source_hidden": false,
     "outputs_hidden": false
    },
    "nteract": {
     "transient": {
      "deleting": false
     }
    },
    "gather": {
     "logged": 1622602950492
    }
   }
  },
  {
   "cell_type": "code",
   "source": [
    "from azureml.core import ScriptRunConfig\n",
    "from azureml.core.datastore import Datastore\n",
    "from azureml.core import Dataset\n",
    "\n",
    "project_folder = './'\n",
    "data_path = 'datasets'\n",
    "\n",
    "datastore = Datastore.get(ws, 'workspaceblobstore')\n",
    "dataset = Dataset.File.from_files(path=(datastore, data_path))\n",
    "data_loc = dataset.as_named_input('input').as_mount()\n",
    "print(data_loc)"
   ],
   "outputs": [
    {
     "name": "stdout",
     "output_type": "stream",
     "text": [
      "<azureml.data.dataset_consumption_config.DatasetConsumptionConfig object at 0x000001884993AE50>\n"
     ]
    }
   ],
   "execution_count": 5,
   "metadata": {
    "collapsed": true,
    "jupyter": {
     "source_hidden": false,
     "outputs_hidden": false
    },
    "nteract": {
     "transient": {
      "deleting": false
     }
    },
    "gather": {
     "logged": 1622607068637
    }
   }
  },
  {
   "cell_type": "code",
   "source": [
    "src = ScriptRunConfig(source_directory=project_folder,\n",
    "                        # command=['ls'],\n",
    "                        script='train_resnet.py',\n",
    "                        arguments=[\n",
    "                          '--num_epochs', 16,\n",
    "                          '--batch', '32',\n",
    "                          '--shuffle', 'True',\n",
    "                          '--dataloc', data_loc,\n",
    "                          '--output_dir', './outputs',\n",
    "                        ],\n",
    "                        compute_target=compute_target,\n",
    "                        environment=pytorch_env)\n",
    "\n",
    "run = Experiment(ws, name='Train-Resnet50v15').submit(src)\n",
    "run.wait_for_completion(show_output=True)"
   ],
   "outputs": [
    {
     "name": "stdout",
     "output_type": "stream",
     "text": [
      "RunId: Train-Resnet50v15_1623838125_8dae0b76\n",
      "Web View: https://ml.azure.com/runs/Train-Resnet50v15_1623838125_8dae0b76?wsid=/subscriptions/92c76a2f-0e1c-4216-b65e-abf7a3f34c1e/resourcegroups/AzureML_UW_ResNet/workspaces/ResNet&tid=72f988bf-86f1-41af-91ab-2d7cd011db47\n",
      "\n",
      "Streaming azureml-logs/65_job_prep-tvmps_f839f10f85b5439368004e8d31ac542289fe4461b9578e2d22e9c14d366bf83c_p.txt\n",
      "===============================================================================================================\n",
      "\n",
      "[2021-06-16T10:13:29.312381] Entering job preparation.\n",
      "[2021-06-16T10:13:30.115457] Starting job preparation.\n",
      "[2021-06-16T10:13:30.115495] Extracting the control code.\n",
      "[2021-06-16T10:13:30.132583] fetching and extracting the control code on master node.\n",
      "[2021-06-16T10:13:30.132617] Starting extract_project.\n",
      "[2021-06-16T10:13:30.132654] Starting to extract zip file.\n",
      "[2021-06-16T10:13:30.643247] Finished extracting zip file.\n",
      "[2021-06-16T10:13:30.810831] Using urllib.request Python 3.0 or later\n",
      "[2021-06-16T10:13:30.810897] Start fetching snapshots.\n",
      "[2021-06-16T10:13:30.810939] Start fetching snapshot.\n",
      "[2021-06-16T10:13:30.810957] Retrieving project from snapshot: 2c980969-7d68-45f5-b393-75be73723fb5\n",
      "Starting the daemon thread to refresh tokens in background for process with pid = 65\n",
      "[2021-06-16T10:13:34.861825] Finished fetching snapshot.\n",
      "[2021-06-16T10:13:34.861856] Finished fetching snapshots.\n",
      "[2021-06-16T10:13:34.861879] Finished extract_project.\n",
      "[2021-06-16T10:13:34.872447] Finished fetching and extracting the control code.\n",
      "[2021-06-16T10:13:34.878858] Start run_history_prep.\n",
      "[2021-06-16T10:13:34.926016] Job preparation is complete.\n",
      "[2021-06-16T10:13:34.926170] Entering Data Context Managers in Sidecar\n",
      "[2021-06-16T10:13:34.926917] Running Sidecar prep cmd...\n",
      "[2021-06-16T10:13:35.348613] INFO azureml.sidecar.sidecar: Received task: enter_contexts. Running on Linux at /mnt/hostfs/mnt/batch/tasks/shared/LS_root/jobs/resnet/azureml/train-resnet50v15_1623838125_8dae0b76/mounts/workspaceblobstore/azureml/Train-Resnet50v15_1623838125_8dae0b76\n",
      "[2021-06-16T10:13:35.349432] INFO azureml.sidecar.sidecar: Invoking \"enter_contexts\" task with Context Managers: {\"context_managers\": [\"Dataset:context_managers.Datasets\"]}\n",
      "\n",
      "Streaming azureml-logs/70_driver_log.txt\n",
      "========================================\n",
      "\n",
      "bash: /azureml-envs/azureml_8a0c08d04ee82bb32fbf16e9f6c51e1e/lib/libtinfo.so.5: no version information available (required by bash)\n",
      "2021/06/16 10:14:31 Starting App Insight Logger for task:  runTaskLet\n",
      "2021/06/16 10:14:31 Version: 3.0.01622.0001 Branch: .SourceBranch Commit: 1141612\n",
      "2021/06/16 10:14:31 Attempt 1 of http call to http://10.0.0.4:16384/sendlogstoartifacts/info\n",
      "bash: /azureml-envs/azureml_8a0c08d04ee82bb32fbf16e9f6c51e1e/lib/libtinfo.so.5: no version information available (required by bash)\n",
      "2021/06/16 10:14:31 Attempt 1 of http call to http://10.0.0.4:16384/sendlogstoartifacts/status\n",
      "[2021-06-16T10:14:32.255644] Entering context manager injector.\n",
      "[context_manager_injector.py] Command line Options: Namespace(inject=['ProjectPythonPath:context_managers.ProjectPythonPath', 'Dataset:context_managers.Datasets', 'RunHistory:context_managers.RunHistory', 'TrackUserError:context_managers.TrackUserError', 'UserExceptions:context_managers.UserExceptions'], invocation=['train_resnet.py', '--num_epochs', '16', '--batch', '32', '--shuffle', 'True', '--dataloc', 'DatasetConsumptionConfig:input', '--output_dir', './outputs'])\n",
      "Script type = None\n",
      "[2021-06-16T10:14:33.562074] Entering Run History Context Manager.\n",
      "[2021-06-16T10:14:34.393296] Current directory: /mnt/batch/tasks/shared/LS_root/jobs/resnet/azureml/train-resnet50v15_1623838125_8dae0b76/mounts/workspaceblobstore/azureml/Train-Resnet50v15_1623838125_8dae0b76\n",
      "[2021-06-16T10:14:34.393664] Preparing to call script [train_resnet.py] with arguments:['--num_epochs', '16', '--batch', '32', '--shuffle', 'True', '--dataloc', '$input', '--output_dir', './outputs']\n",
      "[2021-06-16T10:14:34.393730] After variable expansion, calling script [train_resnet.py] with arguments:['--num_epochs', '16', '--batch', '32', '--shuffle', 'True', '--dataloc', '/mnt/batch/tasks/shared/LS_root/jobs/resnet/azureml/train-resnet50v15_1623838125_8dae0b76/wd/input_74e26162-1324-490a-93fc-cd7aff3a117b', '--output_dir', './outputs']\n",
      "\n",
      "06/16/2021 10:14:36 AM - INFO: Loading dataset from /mnt/batch/tasks/shared/LS_root/jobs/resnet/azureml/train-resnet50v15_1623838125_8dae0b76/wd/input_74e26162-1324-490a-93fc-cd7aff3a117b\n",
      "2021/06/16 10:14:36 Not exporting to RunHistory as the exporter is either stopped or there is no data.\n",
      "Stopped: false\n",
      "OriginalData: 1\n",
      "FilteredData: 0.\n",
      "06/16/2021 10:16:20 AM - INFO: Dataset is ready.\n",
      "06/16/2021 10:16:20 AM - INFO: Preparing model...\n",
      "06/16/2021 10:16:23 AM - INFO: Model is ready.\n",
      "06/16/2021 10:16:23 AM - INFO: Setting hyperparameters...\n",
      "06/16/2021 10:16:23 AM - INFO: Ready for training.\n",
      "06/16/2021 10:16:23 AM - INFO: Epoch: 1\n",
      "06/16/2021 10:18:03 AM - INFO: Training:: Epoch: 1/16\tBatch: 100/3125\t\tLoss: 5.34279108\n",
      "06/16/2021 10:19:31 AM - INFO: Training:: Epoch: 1/16\tBatch: 200/3125\t\tLoss: 5.25888348\n",
      "06/16/2021 10:20:59 AM - INFO: Training:: Epoch: 1/16\tBatch: 300/3125\t\tLoss: 5.44079304\n",
      "06/16/2021 10:22:32 AM - INFO: Training:: Epoch: 1/16\tBatch: 400/3125\t\tLoss: 4.84595537\n",
      "06/16/2021 10:24:07 AM - INFO: Training:: Epoch: 1/16\tBatch: 500/3125\t\tLoss: 5.03782129\n"
     ]
    }
   ],
   "execution_count": null,
   "metadata": {
    "collapsed": true,
    "jupyter": {
     "source_hidden": false,
     "outputs_hidden": false
    },
    "nteract": {
     "transient": {
      "deleting": false
     }
    },
    "gather": {
     "logged": 1622607063183
    },
    "pycharm": {
     "is_executing": true
    }
   }
  }
 ],
 "metadata": {
  "kernelspec": {
   "name": "python3",
   "language": "python",
   "display_name": "Python 3"
  },
  "language_info": {
   "name": "python",
   "version": "3.6.9",
   "mimetype": "text/x-python",
   "codemirror_mode": {
    "name": "ipython",
    "version": 3
   },
   "pygments_lexer": "ipython3",
   "nbconvert_exporter": "python",
   "file_extension": ".py"
  },
  "kernel_info": {
   "name": "python3-azureml"
  },
  "microsoft": {
   "host": {
    "AzureML": {
     "notebookHasBeenCompleted": true
    }
   }
  },
  "nteract": {
   "version": "nteract-front-end@1.0.0"
  }
 },
 "nbformat": 4,
 "nbformat_minor": 2
}