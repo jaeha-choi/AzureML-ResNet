{
 "cells": [
  {
   "cell_type": "code",
   "source": [
    "import os\n",
    "import shutil\n",
    "\n",
    "from azureml.core.workspace import Workspace\n",
    "from azureml.core import Experiment\n",
    "from azureml.core import Environment\n",
    "\n",
    "from azureml.core.compute import ComputeTarget, AmlCompute\n",
    "from azureml.core.compute_target import ComputeTargetException"
   ],
   "outputs": [],
   "execution_count": 1,
   "metadata": {
    "gather": {
     "logged": 1622602949259
    }
   }
  },
  {
   "cell_type": "code",
   "source": [
    "ws = Workspace.from_config()\n",
    "ws"
   ],
   "outputs": [
    {
     "data": {
      "text/plain": "Workspace.create(name='ResNet', subscription_id='92c76a2f-0e1c-4216-b65e-abf7a3f34c1e', resource_group='AzureML_UW_ResNet')"
     },
     "execution_count": 2,
     "metadata": {},
     "output_type": "execute_result"
    }
   ],
   "execution_count": 2,
   "metadata": {
    "collapsed": true,
    "jupyter": {
     "source_hidden": false,
     "outputs_hidden": false
    },
    "nteract": {
     "transient": {
      "deleting": false
     }
    },
    "gather": {
     "logged": 1622602949849
    }
   }
  },
  {
   "cell_type": "code",
   "source": [
    "# cluster_name = \"ML-CPU-test\"\n",
    "cluster_name = \"ML-GPU-test\"\n",
    "compute_target = None\n",
    "\n",
    "try:\n",
    "    compute_target = ComputeTarget(workspace=ws, name=cluster_name)\n",
    "    print('Found existing compute target')\n",
    "except ComputeTargetException:\n",
    "    print('No compute cluster named {}'.format(cluster_name))\n",
    "    exit()"
   ],
   "outputs": [
    {
     "name": "stdout",
     "output_type": "stream",
     "text": [
      "Found existing compute target\n"
     ]
    }
   ],
   "execution_count": 3,
   "metadata": {
    "collapsed": true,
    "jupyter": {
     "source_hidden": false,
     "outputs_hidden": false
    },
    "nteract": {
     "transient": {
      "deleting": false
     }
    },
    "gather": {
     "logged": 1622602950336
    }
   }
  },
  {
   "cell_type": "code",
   "source": [
    "curated_env_name = 'Resnet50v15-CPU-cluster'\n",
    "#pytorch_env = Environment.get(workspace=ws, name=curated_env_name)\n",
    "pytorch_env = Environment.from_conda_specification(name=curated_env_name, file_path='./conda_dependencies.yml')"
   ],
   "outputs": [],
   "execution_count": 4,
   "metadata": {
    "collapsed": true,
    "jupyter": {
     "source_hidden": false,
     "outputs_hidden": false
    },
    "nteract": {
     "transient": {
      "deleting": false
     }
    },
    "gather": {
     "logged": 1622602950492
    }
   }
  },
  {
   "cell_type": "code",
   "source": [
    "from azureml.core import ScriptRunConfig\n",
    "from azureml.core.datastore import Datastore\n",
    "from azureml.core import Dataset\n",
    "\n",
    "project_folder = './'\n",
    "data_path = 'datasets'\n",
    "\n",
    "datastore = Datastore.get(ws, 'workspaceblobstore')\n",
    "dataset = Dataset.File.from_files(path=(datastore, data_path))\n",
    "data_loc = dataset.as_named_input('input').as_mount()\n",
    "print(data_loc)"
   ],
   "outputs": [
    {
     "name": "stdout",
     "output_type": "stream",
     "text": [
      "<azureml.data.dataset_consumption_config.DatasetConsumptionConfig object at 0x00000159FEAB4D60>\n"
     ]
    }
   ],
   "execution_count": 5,
   "metadata": {
    "collapsed": true,
    "jupyter": {
     "source_hidden": false,
     "outputs_hidden": false
    },
    "nteract": {
     "transient": {
      "deleting": false
     }
    },
    "gather": {
     "logged": 1622607068637
    }
   }
  },
  {
   "cell_type": "code",
   "source": [
    "src = ScriptRunConfig(source_directory=project_folder,\n",
    "                        # command=['ls'],\n",
    "                        script='train_resnet.py',\n",
    "                        arguments=[\n",
    "                          '--num_epochs', 16,\n",
    "                          '--batch', '32',\n",
    "                          '--shuffle', 'True',\n",
    "                          '--dataloc', data_loc,\n",
    "                          '--output_dir', './outputs',\n",
    "                        ],\n",
    "                        compute_target=compute_target,\n",
    "                        environment=pytorch_env)\n",
    "\n",
    "run = Experiment(ws, name='Train-Resnet50v15').submit(src)\n",
    "run.wait_for_completion(show_output=True)"
   ],
   "outputs": [
    {
     "name": "stdout",
     "output_type": "stream",
     "text": [
      "RunId: Train-Resnet50v15_1623928011_bb06fc3c\n",
      "Web View: https://ml.azure.com/runs/Train-Resnet50v15_1623928011_bb06fc3c?wsid=/subscriptions/92c76a2f-0e1c-4216-b65e-abf7a3f34c1e/resourcegroups/AzureML_UW_ResNet/workspaces/ResNet&tid=72f988bf-86f1-41af-91ab-2d7cd011db47\n",
      "\n",
      "Streaming azureml-logs/55_azureml-execution-tvmps_7b352698ac18a0a5656560c0fdced9840cff60fdd17d2472546e39fb53e4d3f9_p.txt\n",
      "========================================================================================================================\n",
      "\n",
      "2021-06-17T11:07:38Z Running following command: /bin/bash -c sudo blobfuse /mnt/batch/tasks/shared/LS_root/jobs/resnet/azureml/train-resnet50v15_1623928011_bb06fc3c/mounts/workspaceblobstore --tmp-path=/mnt/batch/tasks/shared/LS_root/jobs/resnet/azureml/train-resnet50v15_1623928011_bb06fc3c/caches/workspaceblobstore -o ro --file-cache-timeout-in-seconds=1000000 --cache-size-mb=311641 -o nonempty -o allow_other --config-file=/mnt/batch/tasks/shared/LS_root/jobs/resnet/azureml/train-resnet50v15_1623928011_bb06fc3c/configs/workspaceblobstore.cfg --log-level=LOG_WARNING\n",
      "2021-06-17T11:07:38Z Successfully mounted a/an Blobfuse File System at /mnt/batch/tasks/shared/LS_root/jobs/resnet/azureml/train-resnet50v15_1623928011_bb06fc3c/mounts/workspaceblobstore\n",
      "2021-06-17T11:07:38Z Failed to start nvidia-fabricmanager due to exit status 5 with output Failed to start nvidia-fabricmanager.service: Unit nvidia-fabricmanager.service not found.\n",
      ". Please ignore this if the GPUs don't utilize NVIDIA® NVLink® switches.\n",
      "2021-06-17T11:07:38Z Starting output-watcher...\n",
      "2021-06-17T11:07:38Z IsDedicatedCompute == False, starting polling for Low-Pri Preemption\n",
      "2021-06-17T11:07:38Z Executing 'Copy ACR Details file' on 10.0.0.4\n",
      "2021-06-17T11:07:38Z Copy ACR Details file succeeded on 10.0.0.4. Output: \n",
      ">>>   \n",
      ">>>   \n",
      "Login Succeeded\n",
      "Using default tag: latest\n",
      "latest: Pulling from azureml/azureml_fe4afc798de401edfb76dc27a38b1703\n",
      "Digest: sha256:5224cd9c4e07c9304c90193ab084da3cf8643e81065eef4d81c2c4029c58248c\n",
      "Status: Image is up to date for viennaglobal.azurecr.io/azureml/azureml_fe4afc798de401edfb76dc27a38b1703:latest\n",
      "viennaglobal.azurecr.io/azureml/azureml_fe4afc798de401edfb76dc27a38b1703:latest\n",
      "2021-06-17T11:07:39Z Check if container train-resnet50v15_1623928011_bb06fc3c_DataSidecar already exist exited with 0, \n",
      "\n",
      "a33ab2908dde9148639066a2a9075d26444c7876060684070eb9914ceb2bb451\n",
      "2021-06-17T11:07:39Z Parameters for containerSetup task: useDetonationChamer set to false and sshRequired set to false \n",
      "2021-06-17T11:07:39Z containerSetup task cmd: [/mnt/batch/tasks/startup/wd/hosttools -task=containerSetup -traceContext=00-4638cb7eea063a2c1e607477785f7daa-18a2f35b63b707b0-01 -sshRequired=false] \n",
      "2021/06/17 11:07:39 Starting App Insight Logger for task:  containerSetup\n",
      "2021/06/17 11:07:39 Version: 3.0.01622.0001 Branch: .SourceBranch Commit: 1141612\n",
      "2021/06/17 11:07:39 Entered ContainerSetupTask - Preparing infiniband\n",
      "2021/06/17 11:07:39 Starting infiniband setup\n",
      "2021/06/17 11:07:39 Python Version found is Python 3.7.9\n",
      "\n",
      "2021/06/17 11:07:39 Returning Python Version as 3.7\n",
      "2021-06-17T11:07:39Z VMSize: standard_nc6, Host: runtime-gen1-ubuntu18, Container: ubuntu-16.04\n",
      "2021/06/17 11:07:39 VMSize: standard_nc6, Host: runtime-gen1-ubuntu18, Container: ubuntu-16.04\n",
      "2021/06/17 11:07:39 VMSize: standard_nc6, Host: runtime-gen1-ubuntu18, Container: ubuntu-16.04\n",
      "2021/06/17 11:07:39 /dev/infiniband/uverbs0 found (implying presence of InfiniBand)?: false\n",
      "2021-06-17T11:07:39Z Not setting up Infiniband in Container\n",
      "2021/06/17 11:07:39 Not setting up Infiniband in Container\n",
      "2021/06/17 11:07:39 Not setting up Infiniband in Container\n",
      "2021/06/17 11:07:39 Python Version found is Python 3.7.9\n",
      "\n",
      "2021/06/17 11:07:39 Returning Python Version as 3.7\n",
      "2021/06/17 11:07:39 sshd inside container not required for job, skipping setup.\n",
      "2021/06/17 11:07:40 All App Insights Logs was send successfully\n",
      "2021/06/17 11:07:40 App Insight Client has already been closed\n",
      "2021/06/17 11:07:40 Not exporting to RunHistory as the exporter is either stopped or there is no data.\n",
      "Stopped: false\n",
      "OriginalData: 1\n",
      "FilteredData: 0.\n",
      "2021-06-17T11:07:40Z Starting docker container succeeded.\n",
      "\n",
      "Streaming azureml-logs/70_driver_log.txt\n",
      "========================================\n",
      "\n",
      "bash: /azureml-envs/azureml_8a0c08d04ee82bb32fbf16e9f6c51e1e/lib/libtinfo.so.5: no version information available (required by bash)\n",
      "2021/06/17 11:08:04 Starting App Insight Logger for task:  runTaskLet\n",
      "2021/06/17 11:08:04 Version: 3.0.01622.0001 Branch: .SourceBranch Commit: 1141612\n",
      "bash: /azureml-envs/azureml_8a0c08d04ee82bb32fbf16e9f6c51e1e/lib/libtinfo.so.5: no version information available (required by bash)\n",
      "2021/06/17 11:08:04 Attempt 1 of http call to http://10.0.0.4:16384/sendlogstoartifacts/info\n",
      "2021/06/17 11:08:04 Attempt 1 of http call to http://10.0.0.4:16384/sendlogstoartifacts/status\n",
      "[2021-06-17T11:08:04.900079] Entering context manager injector.\n",
      "[context_manager_injector.py] Command line Options: Namespace(inject=['ProjectPythonPath:context_managers.ProjectPythonPath', 'Dataset:context_managers.Datasets', 'RunHistory:context_managers.RunHistory', 'TrackUserError:context_managers.TrackUserError', 'UserExceptions:context_managers.UserExceptions'], invocation=['train_resnet.py', '--num_epochs', '16', '--batch', '32', '--shuffle', 'True', '--dataloc', 'DatasetConsumptionConfig:input', '--output_dir', './outputs'])\n",
      "Script type = None\n",
      "[2021-06-17T11:08:05.469403] Entering Run History Context Manager.\n",
      "[2021-06-17T11:08:06.209705] Current directory: /mnt/batch/tasks/shared/LS_root/jobs/resnet/azureml/train-resnet50v15_1623928011_bb06fc3c/wd/azureml/Train-Resnet50v15_1623928011_bb06fc3c\n",
      "[2021-06-17T11:08:06.209988] Preparing to call script [train_resnet.py] with arguments:['--num_epochs', '16', '--batch', '32', '--shuffle', 'True', '--dataloc', '$input', '--output_dir', './outputs']\n",
      "[2021-06-17T11:08:06.210087] After variable expansion, calling script [train_resnet.py] with arguments:['--num_epochs', '16', '--batch', '32', '--shuffle', 'True', '--dataloc', '/mnt/batch/tasks/shared/LS_root/jobs/resnet/azureml/train-resnet50v15_1623928011_bb06fc3c/wd/input_74e26162-1324-490a-93fc-cd7aff3a117b', '--output_dir', './outputs']\n",
      "\n",
      "06/17/2021 11:08:06 AM - INFO: Number of available GPUs: 1\n",
      "06/17/2021 11:08:06 AM - INFO: Current device: cuda\n",
      "06/17/2021 11:08:06 AM - INFO: Loading dataset from /mnt/batch/tasks/shared/LS_root/jobs/resnet/azureml/train-resnet50v15_1623928011_bb06fc3c/wd/input_74e26162-1324-490a-93fc-cd7aff3a117b\n",
      "2021/06/17 11:08:09 Not exporting to RunHistory as the exporter is either stopped or there is no data.\n",
      "Stopped: false\n",
      "OriginalData: 1\n",
      "FilteredData: 0.\n",
      "06/17/2021 11:09:39 AM - INFO: Dataset is ready.\n",
      "06/17/2021 11:09:39 AM - INFO: Preparing model...\n",
      "06/17/2021 11:09:42 AM - INFO: Model is ready.\n",
      "06/17/2021 11:09:42 AM - INFO: Setting hyperparameters...\n",
      "06/17/2021 11:09:42 AM - INFO: Ready for training.\n",
      "06/17/2021 11:09:42 AM - INFO: Epoch: 1\n",
      "06/17/2021 11:10:59 AM - INFO: Training:: Epoch: 1/16\tBatch: 100/3125\t\tLoss: 5.58374977\n",
      "06/17/2021 11:12:12 AM - INFO: Training:: Epoch: 1/16\tBatch: 200/3125\t\tLoss: 5.33897161\n",
      "06/17/2021 11:13:23 AM - INFO: Training:: Epoch: 1/16\tBatch: 300/3125\t\tLoss: 5.19907141\n"
     ]
    }
   ],
   "execution_count": null,
   "metadata": {
    "collapsed": true,
    "jupyter": {
     "source_hidden": false,
     "outputs_hidden": false
    },
    "nteract": {
     "transient": {
      "deleting": false
     }
    },
    "gather": {
     "logged": 1622607063183
    },
    "pycharm": {
     "is_executing": true
    }
   }
  }
 ],
 "metadata": {
  "kernelspec": {
   "name": "python3",
   "language": "python",
   "display_name": "Python 3"
  },
  "language_info": {
   "name": "python",
   "version": "3.6.9",
   "mimetype": "text/x-python",
   "codemirror_mode": {
    "name": "ipython",
    "version": 3
   },
   "pygments_lexer": "ipython3",
   "nbconvert_exporter": "python",
   "file_extension": ".py"
  },
  "kernel_info": {
   "name": "python3-azureml"
  },
  "microsoft": {
   "host": {
    "AzureML": {
     "notebookHasBeenCompleted": true
    }
   }
  },
  "nteract": {
   "version": "nteract-front-end@1.0.0"
  }
 },
 "nbformat": 4,
 "nbformat_minor": 2
}