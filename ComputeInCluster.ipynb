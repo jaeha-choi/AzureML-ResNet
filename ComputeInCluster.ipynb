{
 "cells": [
  {
   "cell_type": "code",
   "source": [
    "import os\r\n",
    "import shutil\r\n",
    "\r\n",
    "from azureml.core.workspace import Workspace\r\n",
    "from azureml.core import Experiment\r\n",
    "from azureml.core import Environment\r\n",
    "\r\n",
    "from azureml.core.compute import ComputeTarget, AmlCompute\r\n",
    "from azureml.core.compute_target import ComputeTargetException"
   ],
   "outputs": [],
   "execution_count": 1,
   "metadata": {
    "gather": {
     "logged": 1622602949259
    }
   }
  },
  {
   "cell_type": "code",
   "source": [
    "ws = Workspace.from_config()\r\n",
    "ws"
   ],
   "outputs": [
    {
     "output_type": "execute_result",
     "execution_count": 2,
     "data": {
      "text/plain": "Workspace.create(name='resnet', subscription_id='92c76a2f-0e1c-4216-b65e-abf7a3f34c1e', resource_group='azureml_uw_resnet')"
     },
     "metadata": {}
    }
   ],
   "execution_count": 2,
   "metadata": {
    "collapsed": true,
    "jupyter": {
     "source_hidden": false,
     "outputs_hidden": false
    },
    "nteract": {
     "transient": {
      "deleting": false
     }
    },
    "gather": {
     "logged": 1622602949849
    }
   }
  },
  {
   "cell_type": "code",
   "source": [
    "cluster_name = \"ML-CPU-test\"\r\n",
    "\r\n",
    "try:\r\n",
    "    compute_target = ComputeTarget(workspace=ws, name=cluster_name)\r\n",
    "    print('Found existing compute target')\r\n",
    "except ComputeTargetException:\r\n",
    "    print('No compute cluster named {}'.format(cluster_name))\r\n",
    "    exit()"
   ],
   "outputs": [
    {
     "output_type": "stream",
     "name": "stdout",
     "text": [
      "Found existing compute target\n"
     ]
    }
   ],
   "execution_count": 3,
   "metadata": {
    "collapsed": true,
    "jupyter": {
     "source_hidden": false,
     "outputs_hidden": false
    },
    "nteract": {
     "transient": {
      "deleting": false
     }
    },
    "gather": {
     "logged": 1622602950336
    }
   }
  },
  {
   "cell_type": "code",
   "source": [
    "curated_env_name = 'Resnet50v15-CPU-cluster'\r\n",
    "#pytorch_env = Environment.get(workspace=ws, name=curated_env_name)\r\n",
    "pytorch_env = Environment.from_conda_specification(name=curated_env_name, file_path='./conda_dependencies.yml')"
   ],
   "outputs": [],
   "execution_count": 4,
   "metadata": {
    "collapsed": true,
    "jupyter": {
     "source_hidden": false,
     "outputs_hidden": false
    },
    "nteract": {
     "transient": {
      "deleting": false
     }
    },
    "gather": {
     "logged": 1622602950492
    }
   }
  },
  {
   "cell_type": "code",
   "source": [
    "from azureml.core import ScriptRunConfig\r\n",
    "from azureml.core.datastore import Datastore\r\n",
    "from azureml.core import Dataset\r\n",
    "\r\n",
    "project_folder = './'\r\n",
    "data_path = 'datasets'\r\n",
    "\r\n",
    "datastore = Datastore.get(ws, 'workspaceblobstore')\r\n",
    "dataset = Dataset.File.from_files(path=(datastore, data_path))\r\n",
    "data_loc = dataset.as_named_input('input').as_mount()\r\n",
    "print(data_loc)"
   ],
   "outputs": [
    {
     "output_type": "stream",
     "name": "stdout",
     "text": [
      "<azureml.data.dataset_consumption_config.DatasetConsumptionConfig object at 0x7f1c37b1c550>\n"
     ]
    }
   ],
   "execution_count": 30,
   "metadata": {
    "collapsed": true,
    "jupyter": {
     "source_hidden": false,
     "outputs_hidden": false
    },
    "nteract": {
     "transient": {
      "deleting": false
     }
    },
    "gather": {
     "logged": 1622607068637
    }
   }
  },
  {
   "cell_type": "code",
   "source": [
    "src = ScriptRunConfig(source_directory=project_folder,\r\n",
    "                        # command=['ls'],\r\n",
    "                        script='train_resnet.py',\r\n",
    "                        arguments=[\r\n",
    "                          '--num_epochs', 16,\r\n",
    "                          '--batch', '32',\r\n",
    "                          '--shuffle', 'True',\r\n",
    "                          '--dataloc', data_loc,\r\n",
    "                          '--output_dir', './outputs',\r\n",
    "                        ],\r\n",
    "                        compute_target=compute_target,\r\n",
    "                        environment=pytorch_env)\r\n",
    "\r\n",
    "run = Experiment(ws, name='Train-Resnet50v15').submit(src)\r\n",
    "run.wait_for_completion(show_output=True)"
   ],
   "outputs": [
    {
     "output_type": "stream",
     "name": "stdout",
     "text": [
      "RunId: Train-Resnet50v15_1622607071_8955f637\n",
      "Web View: https://ml.azure.com/runs/Train-Resnet50v15_1622607071_8955f637?wsid=/subscriptions/92c76a2f-0e1c-4216-b65e-abf7a3f34c1e/resourcegroups/azureml_uw_resnet/workspaces/resnet&tid=72f988bf-86f1-41af-91ab-2d7cd011db47\n",
      "\n",
      "Streaming azureml-logs/55_azureml-execution-tvmps_fca8b318714dc083092be9e4cfc80123ee8f881eda77258a898cc7b5df6abfd7_p.txt\n",
      "========================================================================================================================\n",
      "\n",
      "2021-06-02T04:11:36Z Successfully mounted a/an Blobfuse File System at /mnt/batch/tasks/shared/LS_root/jobs/resnet/azureml/train-resnet50v15_1622607071_8955f637/mounts/workspaceblobstore\n",
      "2021-06-02T04:11:37Z Starting output-watcher...\n",
      "2021-06-02T04:11:37Z IsDedicatedCompute == False, starting polling for Low-Pri Preemption\n",
      "2021-06-02T04:11:37Z Executing 'Copy ACR Details file' on 10.0.0.4\n",
      "2021-06-02T04:11:38Z Copy ACR Details file succeeded on 10.0.0.4. Output: \n",
      ">>>   \n",
      ">>>   \n",
      "Login Succeeded\n",
      "Using default tag: latest\n",
      "latest: Pulling from azureml/azureml_fe4afc798de401edfb76dc27a38b1703\n",
      "Digest: sha256:5224cd9c4e07c9304c90193ab084da3cf8643e81065eef4d81c2c4029c58248c\n",
      "Status: Image is up to date for viennaglobal.azurecr.io/azureml/azureml_fe4afc798de401edfb76dc27a38b1703:latest\n",
      "viennaglobal.azurecr.io/azureml/azureml_fe4afc798de401edfb76dc27a38b1703:latest\n",
      "2021-06-02T04:11:38Z Check if container train-resnet50v15_1622607071_8955f637_DataSidecar already exist exited with 0, \n",
      "\n",
      "047732fb2e3df49cb70b584d94b82353176c451a9f4f19efa2f1b33e04d053f5\n",
      "2021-06-02T04:11:38Z Parameters for containerSetup task: useDetonationChamer set to false and sshRequired set to false \n",
      "2021-06-02T04:11:38Z containerSetup task cmd: [/mnt/batch/tasks/startup/wd/hosttools -task=containerSetup -traceContext=00-ce4c8ca3e0923ce9bdf8cf8ca77d766a-0d51e5176d6f0281-01 -sshRequired=false] \n",
      "2021/06/02 04:11:39 Starting App Insight Logger for task:  containerSetup\n",
      "2021/06/02 04:11:39 Version: 3.0.01601.0003 Branch: 2021-05-21 Commit: 6f99cdc\n",
      "2021/06/02 04:11:39 Entered ContainerSetupTask - Preparing infiniband\n",
      "2021/06/02 04:11:39 Starting infiniband setup\n",
      "2021/06/02 04:11:39 Python Version found is Python 3.7.9\n",
      "\n",
      "2021/06/02 04:11:39 Returning Python Version as 3.7\n",
      "2021/06/02 04:11:39 VMSize: standard_ds3_v2, Host: runtime-gen1-ubuntu18, Container: ubuntu-16.04\n",
      "2021/06/02 04:11:39 VMSize: standard_ds3_v2, Host: runtime-gen1-ubuntu18, Container: ubuntu-16.04\n",
      "2021-06-02T04:11:39Z VMSize: standard_ds3_v2, Host: runtime-gen1-ubuntu18, Container: ubuntu-16.04\n",
      "2021/06/02 04:11:39 /dev/infiniband/uverbs0 found (implying presence of InfiniBand)?: false\n",
      "2021/06/02 04:11:39 Not setting up Infiniband in Container\n",
      "2021/06/02 04:11:39 Not setting up Infiniband in Container\n",
      "2021-06-02T04:11:39Z Not setting up Infiniband in Container\n",
      "2021/06/02 04:11:39 Python Version found is Python 3.7.9\n",
      "\n",
      "2021/06/02 04:11:39 Returning Python Version as 3.7\n",
      "2021/06/02 04:11:39 sshd inside container not required for job, skipping setup.\n",
      "2021/06/02 04:11:39 All App Insights Logs was send successfully\n",
      "2021/06/02 04:11:39 App Insight Client has already been closed\n",
      "2021/06/02 04:11:39 Not exporting to RunHistory as the exporter is either stopped or there is no data.\n",
      "Stopped: false\n",
      "OriginalData: 1\n",
      "FilteredData: 0.\n",
      "2021-06-02T04:11:39Z Starting docker container succeeded.\n",
      "\n",
      "Streaming azureml-logs/65_job_prep-tvmps_fca8b318714dc083092be9e4cfc80123ee8f881eda77258a898cc7b5df6abfd7_p.txt\n",
      "===============================================================================================================\n",
      "\n",
      "[2021-06-02T04:11:41.099983] Entering job preparation.\n",
      "[2021-06-02T04:11:41.811920] Starting job preparation.\n",
      "[2021-06-02T04:11:41.811975] Extracting the control code.\n",
      "[2021-06-02T04:11:41.830977] fetching and extracting the control code on master node.\n",
      "[2021-06-02T04:11:41.831022] Starting extract_project.\n",
      "[2021-06-02T04:11:41.831069] Starting to extract zip file.\n",
      "[2021-06-02T04:11:42.384728] Finished extracting zip file.\n",
      "[2021-06-02T04:11:42.517944] Using urllib.request Python 3.0 or later\n",
      "[2021-06-02T04:11:42.518037] Start fetching snapshots.\n",
      "[2021-06-02T04:11:42.518094] Start fetching snapshot.\n",
      "[2021-06-02T04:11:42.518120] Retrieving project from snapshot: 89e35a0c-38d4-425d-ae83-e4a8808992bc\n",
      "Starting the daemon thread to refresh tokens in background for process with pid = 59\n",
      "[2021-06-02T04:11:51.355009] Finished fetching snapshot.\n",
      "[2021-06-02T04:11:51.355048] Finished fetching snapshots.\n",
      "[2021-06-02T04:11:51.355076] Finished extract_project.\n",
      "[2021-06-02T04:11:51.366179] Finished fetching and extracting the control code.\n",
      "[2021-06-02T04:11:51.376574] Start run_history_prep.\n",
      "[2021-06-02T04:11:51.444768] Job preparation is complete.\n",
      "[2021-06-02T04:11:51.445012] Entering Data Context Managers in Sidecar\n",
      "[2021-06-02T04:11:51.446198] Running Sidecar prep cmd...\n",
      "[2021-06-02T04:11:51.872547] INFO azureml.sidecar.sidecar: Received task: enter_contexts. Running on Linux at /mnt/hostfs/mnt/batch/tasks/shared/LS_root/jobs/resnet/azureml/train-resnet50v15_1622607071_8955f637/mounts/workspaceblobstore/azureml/Train-Resnet50v15_1622607071_8955f637\n",
      "[2021-06-02T04:11:51.873418] INFO azureml.sidecar.sidecar: Invoking \"enter_contexts\" task with Context Managers: {\"context_managers\": [\"Dataset:context_managers.Datasets\"]}\n",
      "Enter __enter__ of DatasetContextManager\n",
      "SDK version: azureml-core==1.28.0 azureml-dataprep==2.16.0. Session id: fd6afbed-c6b1-4cfb-812f-515726d70b0e. Run id: Train-Resnet50v15_1622607071_8955f637.\n",
      "Processing 'input'.\n",
      "Processing dataset FileDataset\n",
      "{\n",
      "  \"source\": [\n",
      "    \"('workspaceblobstore', 'datasets')\"\n",
      "  ],\n",
      "  \"definition\": [\n",
      "    \"GetDatastoreFiles\"\n",
      "  ],\n",
      "  \"registration\": {\n",
      "    \"id\": \"022aa4eb-a39d-41bd-bed7-c9f7dcd7bea0\",\n",
      "    \"name\": null,\n",
      "    \"version\": null,\n",
      "    \"workspace\": \"Workspace.create(name='resnet', subscription_id='92c76a2f-0e1c-4216-b65e-abf7a3f34c1e', resource_group='azureml_uw_resnet')\"\n",
      "  }\n",
      "}\n",
      "Mounting input to /mnt/hostfs/mnt/batch/tasks/shared/LS_root/jobs/resnet/azureml/train-resnet50v15_1622607071_8955f637/wd/input_022aa4eb-a39d-41bd-bed7-c9f7dcd7bea0.\n",
      "Mounted input to /mnt/hostfs/mnt/batch/tasks/shared/LS_root/jobs/resnet/azureml/train-resnet50v15_1622607071_8955f637/wd/input_022aa4eb-a39d-41bd-bed7-c9f7dcd7bea0 as folder.\n",
      "Exit __enter__ of DatasetContextManager\n",
      "Set Dataset input's target path to /mnt/batch/tasks/shared/LS_root/jobs/resnet/azureml/train-resnet50v15_1622607071_8955f637/wd/input_022aa4eb-a39d-41bd-bed7-c9f7dcd7bea0\n",
      "[2021-06-02T04:12:06.554924] INFO azureml.sidecar.task.enter_contexts: Entered Context Managers\n",
      "[2021-06-02T04:12:07.153784] Ran Sidecar prep cmd.\n",
      "[2021-06-02T04:12:07.153916] Running Context Managers in Sidecar complete.\n",
      "\n",
      "Streaming azureml-logs/70_driver_log.txt\n",
      "========================================\n",
      "\n",
      "bash: /azureml-envs/azureml_c6cc06fa78f35a468caab22f5d54e724/lib/libtinfo.so.5: no version information available (required by bash)\n",
      "2021/06/02 04:12:09 Starting App Insight Logger for task:  runTaskLet\n",
      "2021/06/02 04:12:09 Attempt 1 of http call to http://10.0.0.4:16384/sendlogstoartifacts/info\n",
      "bash: /azureml-envs/azureml_c6cc06fa78f35a468caab22f5d54e724/lib/libtinfo.so.5: no version information available (required by bash)\n",
      "2021/06/02 04:12:09 Attempt 1 of http call to http://10.0.0.4:16384/sendlogstoartifacts/status\n",
      "[2021-06-02T04:12:10.433334] Entering context manager injector.\n",
      "[context_manager_injector.py] Command line Options: Namespace(inject=['ProjectPythonPath:context_managers.ProjectPythonPath', 'Dataset:context_managers.Datasets', 'RunHistory:context_managers.RunHistory', 'TrackUserError:context_managers.TrackUserError', 'UserExceptions:context_managers.UserExceptions'], invocation=['train_resnet.py', '--num_epochs', '16', '--batch', '32', '--shuffle', 'True', '--dataloc', 'DatasetConsumptionConfig:input', '--output_dir', './outputs'])\n",
      "Script type = None\n",
      "[2021-06-02T04:12:11.828717] Entering Run History Context Manager.\n",
      "[2021-06-02T04:12:12.459407] Current directory: /mnt/batch/tasks/shared/LS_root/jobs/resnet/azureml/train-resnet50v15_1622607071_8955f637/mounts/workspaceblobstore/azureml/Train-Resnet50v15_1622607071_8955f637\n",
      "[2021-06-02T04:12:12.459840] Preparing to call script [train_resnet.py] with arguments:['--num_epochs', '16', '--batch', '32', '--shuffle', 'True', '--dataloc', '$input', '--output_dir', './outputs']\n",
      "[2021-06-02T04:12:12.459996] After variable expansion, calling script [train_resnet.py] with arguments:['--num_epochs', '16', '--batch', '32', '--shuffle', 'True', '--dataloc', '/mnt/batch/tasks/shared/LS_root/jobs/resnet/azureml/train-resnet50v15_1622607071_8955f637/wd/input_022aa4eb-a39d-41bd-bed7-c9f7dcd7bea0', '--output_dir', './outputs']\n",
      "\n",
      "--- Logging error ---\n",
      "Traceback (most recent call last):\n",
      "  File \"/azureml-envs/azureml_c6cc06fa78f35a468caab22f5d54e724/lib/python3.6/logging/__init__.py\", line 992, in emit\n",
      "    msg = self.format(record)\n",
      "  File \"/azureml-envs/azureml_c6cc06fa78f35a468caab22f5d54e724/lib/python3.6/logging/__init__.py\", line 838, in format\n",
      "    return fmt.format(record)\n",
      "  File \"/azureml-envs/azureml_c6cc06fa78f35a468caab22f5d54e724/lib/python3.6/logging/__init__.py\", line 575, in format\n",
      "    record.message = record.getMessage()\n",
      "  File \"/azureml-envs/azureml_c6cc06fa78f35a468caab22f5d54e724/lib/python3.6/logging/__init__.py\", line 338, in getMessage\n",
      "    msg = msg % self.args\n",
      "TypeError: not all arguments converted during string formatting\n",
      "Call stack:\n",
      "  File \"/mnt/batch/tasks/shared/LS_root/jobs/resnet/azureml/train-resnet50v15_1622607071_8955f637/mounts/workspaceblobstore/azureml/Train-Resnet50v15_1622607071_8955f637/azureml-setup/context_manager_injector.py\", line 446, in <module>\n",
      "    execute_with_context(cm_objects, options.invocation)\n",
      "  File \"/mnt/batch/tasks/shared/LS_root/jobs/resnet/azureml/train-resnet50v15_1622607071_8955f637/mounts/workspaceblobstore/azureml/Train-Resnet50v15_1622607071_8955f637/azureml-setup/context_manager_injector.py\", line 234, in execute_with_context\n",
      "    runpy.run_path(sys.argv[0], globals(), run_name=\"__main__\")\n",
      "  File \"/azureml-envs/azureml_c6cc06fa78f35a468caab22f5d54e724/lib/python3.6/runpy.py\", line 263, in run_path\n",
      "    pkg_name=pkg_name, script_name=fname)\n",
      "  File \"/azureml-envs/azureml_c6cc06fa78f35a468caab22f5d54e724/lib/python3.6/runpy.py\", line 96, in _run_module_code\n",
      "    mod_name, mod_spec, pkg_name, script_name)\n",
      "  File \"/azureml-envs/azureml_c6cc06fa78f35a468caab22f5d54e724/lib/python3.6/runpy.py\", line 85, in _run_code\n",
      "    exec(code, run_globals)\n",
      "  File \"train_resnet.py\", line 21, in <module>\n",
      "    log.info(\"Logger:\", str(log));\n",
      "Message: 'Logger:'\n",
      "Arguments: (\"<module 'logging' from '/azureml-envs/azureml_c6cc06fa78f35a468caab22f5d54e724/lib/python3.6/logging/__init__.py'>\",)\n",
      "06/02/2021 04:12:13 AM - INFO: Loading dataset from /mnt/batch/tasks/shared/LS_root/jobs/resnet/azureml/train-resnet50v15_1622607071_8955f637/wd/input_022aa4eb-a39d-41bd-bed7-c9f7dcd7bea0\n",
      "2021/06/02 04:12:14 Not exporting to RunHistory as the exporter is either stopped or there is no data.\n",
      "Stopped: false\n",
      "OriginalData: 1\n",
      "FilteredData: 0.\n",
      "06/02/2021 04:13:54 AM - INFO: Dataset is ready.\n",
      "06/02/2021 04:13:54 AM - INFO: Preparing model...\n",
      "06/02/2021 04:13:54 AM - INFO: Model is ready.\n",
      "06/02/2021 04:13:54 AM - INFO: Setting hyperparameters...\n",
      "06/02/2021 04:13:54 AM - INFO: Ready for training.\n",
      "06/02/2021 04:13:54 AM - INFO: Epoch: 1\n",
      "06/02/2021 04:14:02 AM - INFO: Epoch: 1\tBatch: 1\tTrainLoss: 5.311347961425781\n",
      "06/02/2021 04:14:10 AM - INFO: Epoch: 1\tBatch: 2\tTrainLoss: 5.430144786834717\n",
      "06/02/2021 04:14:17 AM - INFO: Epoch: 1\tBatch: 3\tTrainLoss: 5.5998215675354\n",
      "06/02/2021 04:14:23 AM - INFO: Epoch: 1\tBatch: 4\tTrainLoss: 5.319507598876953\n",
      "06/02/2021 04:14:29 AM - INFO: Epoch: 1\tBatch: 5\tTrainLoss: 5.414461135864258\n",
      "06/02/2021 04:14:36 AM - INFO: Epoch: 1\tBatch: 6\tTrainLoss: 5.383333683013916\n",
      "06/02/2021 04:14:42 AM - INFO: Epoch: 1\tBatch: 7\tTrainLoss: 5.468725204467773\n",
      "06/02/2021 04:14:48 AM - INFO: Epoch: 1\tBatch: 8\tTrainLoss: 5.360345840454102\n",
      "06/02/2021 04:14:55 AM - INFO: Epoch: 1\tBatch: 9\tTrainLoss: 5.416687488555908\n",
      "06/02/2021 04:15:00 AM - INFO: Epoch: 1\tBatch: 10\tTrainLoss: 5.318558692932129\n",
      "06/02/2021 04:15:07 AM - INFO: Epoch: 1\tBatch: 11\tTrainLoss: 5.3937859535217285\n",
      "06/02/2021 04:15:13 AM - INFO: Epoch: 1\tBatch: 12\tTrainLoss: 5.431877613067627\n",
      "06/02/2021 04:15:19 AM - INFO: Epoch: 1\tBatch: 13\tTrainLoss: 5.397671699523926\n",
      "06/02/2021 04:15:24 AM - INFO: Epoch: 1\tBatch: 14\tTrainLoss: 5.354972839355469\n",
      "06/02/2021 04:15:30 AM - INFO: Epoch: 1\tBatch: 15\tTrainLoss: 5.439249515533447\n",
      "06/02/2021 04:15:36 AM - INFO: Epoch: 1\tBatch: 16\tTrainLoss: 5.352888584136963\n",
      "06/02/2021 04:15:41 AM - INFO: Epoch: 1\tBatch: 17\tTrainLoss: 5.297006130218506\n",
      "06/02/2021 04:15:47 AM - INFO: Epoch: 1\tBatch: 18\tTrainLoss: 5.380346775054932\n",
      "06/02/2021 04:15:53 AM - INFO: Epoch: 1\tBatch: 19\tTrainLoss: 5.389919757843018\n",
      "06/02/2021 04:15:59 AM - INFO: Epoch: 1\tBatch: 20\tTrainLoss: 5.383432388305664\n",
      "06/02/2021 04:16:04 AM - INFO: Epoch: 1\tBatch: 21\tTrainLoss: 5.31412935256958\n",
      "06/02/2021 04:16:10 AM - INFO: Epoch: 1\tBatch: 22\tTrainLoss: 5.285695552825928\n",
      "06/02/2021 04:16:16 AM - INFO: Epoch: 1\tBatch: 23\tTrainLoss: 5.322935581207275\n",
      "06/02/2021 04:16:21 AM - INFO: Epoch: 1\tBatch: 24\tTrainLoss: 5.429049968719482\n"
     ]
    }
   ],
   "execution_count": 31,
   "metadata": {
    "collapsed": true,
    "jupyter": {
     "source_hidden": false,
     "outputs_hidden": false
    },
    "nteract": {
     "transient": {
      "deleting": false
     }
    },
    "gather": {
     "logged": 1622607063183
    }
   }
  }
 ],
 "metadata": {
  "kernelspec": {
   "name": "python3-azureml",
   "language": "python",
   "display_name": "Python 3.6 - AzureML"
  },
  "language_info": {
   "name": "python",
   "version": "3.6.9",
   "mimetype": "text/x-python",
   "codemirror_mode": {
    "name": "ipython",
    "version": 3
   },
   "pygments_lexer": "ipython3",
   "nbconvert_exporter": "python",
   "file_extension": ".py"
  },
  "kernel_info": {
   "name": "python3-azureml"
  },
  "microsoft": {
   "host": {
    "AzureML": {
     "notebookHasBeenCompleted": true
    }
   }
  },
  "nteract": {
   "version": "nteract-front-end@1.0.0"
  }
 },
 "nbformat": 4,
 "nbformat_minor": 2
}