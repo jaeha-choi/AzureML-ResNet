{
  "cells": [
    {
      "cell_type": "code",
      "source": [
        "import torch\r\n",
        "import torch.nn as nn\r\n",
        "import torch.nn.functional as F\r\n",
        "\r\n",
        "# non-square kernels and unequal stride and with padding and dilation\r\n",
        "m = nn.Conv2d(3, 64, (3, 3), stride=2, padding=(1, 1))\r\n",
        "input = torch.randn(32, 3, 224, 224)\r\n",
        "output = m(input)\r\n",
        "\r\n",
        "print(output.shape)"
      ],
      "outputs": [
        {
          "output_type": "stream",
          "name": "stdout",
          "text": [
            "torch.Size([32, 64, 112, 112])\n"
          ]
        }
      ],
      "execution_count": 1,
      "metadata": {
        "gather": {
          "logged": 1619762472653
        }
      }
    },
    {
      "cell_type": "code",
      "source": [
        "from src.resnet50_15 import BottleneckBlock\r\n",
        "\r\n",
        "input2 = torch.randn(32, 256, 112, 112)\r\n",
        "\r\n",
        "block = BottleneckBlock(64)\r\n",
        "block2 = BottleneckBlock(128)\r\n",
        "\r\n",
        "print(block(input2).shape)"
      ],
      "outputs": [
        {
          "output_type": "stream",
          "name": "stdout",
          "text": [
            "torch.Size([32, 256, 112, 112])\n"
          ]
        }
      ],
      "execution_count": 2,
      "metadata": {
        "collapsed": true,
        "jupyter": {
          "source_hidden": false,
          "outputs_hidden": false
        },
        "nteract": {
          "transient": {
            "deleting": false
          }
        },
        "gather": {
          "logged": 1619762479235
        }
      }
    }
  ],
  "metadata": {
    "kernelspec": {
      "name": "python3-azureml",
      "language": "python",
      "display_name": "Python 3.6 - AzureML"
    },
    "language_info": {
      "name": "python",
      "version": "3.6.9",
      "mimetype": "text/x-python",
      "codemirror_mode": {
        "name": "ipython",
        "version": 3
      },
      "pygments_lexer": "ipython3",
      "nbconvert_exporter": "python",
      "file_extension": ".py"
    },
    "kernel_info": {
      "name": "python3-azureml"
    },
    "microsoft": {
      "host": {
        "AzureML": {
          "notebookHasBeenCompleted": true
        }
      }
    },
    "nteract": {
      "version": "nteract-front-end@1.0.0"
    }
  },
  "nbformat": 4,
  "nbformat_minor": 2
}