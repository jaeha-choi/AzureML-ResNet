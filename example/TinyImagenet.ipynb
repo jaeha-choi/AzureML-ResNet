{
 "cells": [
  {
   "cell_type": "markdown",
   "source": [
    "<!--\n",
    "TODO:\n",
    "- Add save_all_dict, load_saved_files example\n",
    "\n",
    "Changelog:\n",
    "\n",
    "Revision 2 (210516)\n",
    "- Add DataLoader example\n",
    "\n",
    "Revision 1 (210516)\n",
    "- Initial draft\n",
    "\n",
    "-->\n",
    "\n",
    "## TinyImagenet examples\n",
    "\n",
    "To import TinyImagenet dataset class, use the following code:"
   ],
   "metadata": {
    "collapsed": false,
    "pycharm": {
     "name": "#%% md\n"
    }
   }
  },
  {
   "cell_type": "code",
   "execution_count": 1,
   "metadata": {
    "collapsed": true
   },
   "outputs": [],
   "source": [
    "from util.tiny_imagenet import TinyImagenet"
   ]
  },
  {
   "cell_type": "markdown",
   "source": [
    "TinyImagenet supports multiple parameters, but if you haven't\n",
    "modified the folder structure, you don't need to set any\n",
    "parameters."
   ],
   "metadata": {
    "collapsed": false,
    "pycharm": {
     "name": "#%% md\n"
    }
   }
  },
  {
   "cell_type": "code",
   "execution_count": 2,
   "outputs": [],
   "source": [
    "dataset = TinyImagenet()"
   ],
   "metadata": {
    "collapsed": false,
    "pycharm": {
     "name": "#%%\n"
    }
   }
  },
  {
   "cell_type": "markdown",
   "source": [
    "To use dataset without DataLoader, you can use `for each` syntax:"
   ],
   "metadata": {
    "collapsed": false,
    "pycharm": {
     "name": "#%% md\n"
    }
   }
  },
  {
   "cell_type": "code",
   "execution_count": 3,
   "outputs": [],
   "source": [
    "# Iterate every files (remove break to actually iterate through every data)\n",
    "for pic in dataset:\n",
    "    tensor, label = pic\n",
    "    break"
   ],
   "metadata": {
    "collapsed": false,
    "pycharm": {
     "name": "#%%\n"
    }
   }
  },
  {
   "cell_type": "markdown",
   "source": [
    "Because `__iter__`(function for iteration) is not implemented\n",
    "in TinyImagenet, you would need to use the following code to\n",
    "iterate only a certain amount of the file."
   ],
   "metadata": {
    "collapsed": false,
    "pycharm": {
     "name": "#%% md\n"
    }
   }
  },
  {
   "cell_type": "code",
   "execution_count": 7,
   "outputs": [
    {
     "name": "stdout",
     "output_type": "stream",
     "text": [
      "torch.Size([64, 64, 3])\n",
      "0\n",
      "torch.Size([64, 64, 3])\n",
      "1\n",
      "torch.Size([64, 64, 3])\n",
      "2\n",
      "torch.Size([64, 64, 3])\n",
      "3\n",
      "torch.Size([64, 64, 3])\n",
      "4\n"
     ]
    }
   ],
   "source": [
    "# Iterate first 5 files\n",
    "for i in range(5):\n",
    "    tensor, label = dataset[i]\n",
    "    print(tensor.shape)\n",
    "    print(i)"
   ],
   "metadata": {
    "collapsed": false,
    "pycharm": {
     "name": "#%%\n"
    }
   }
  },
  {
   "cell_type": "markdown",
   "source": [
    "To convert the label into a human-readable string label,\n",
    "use `get_class_name` function in TinyImagenet."
   ],
   "metadata": {
    "collapsed": false,
    "pycharm": {
     "name": "#%% md\n"
    }
   }
  },
  {
   "cell_type": "code",
   "execution_count": 6,
   "outputs": [
    {
     "data": {
      "text/plain": "'goldfish, Carassius auratus'"
     },
     "execution_count": 6,
     "metadata": {},
     "output_type": "execute_result"
    }
   ],
   "source": [
    "dataset.get_class_name(7335)"
   ],
   "metadata": {
    "collapsed": false,
    "pycharm": {
     "name": "#%%\n"
    }
   }
  },
  {
   "cell_type": "markdown",
   "source": [
    "PyTorch provides DataLoader to improve dataset iteration.\n",
    "DataLoader provides the following features:\n",
    "- Batch size\n",
    "- Shuffling\n",
    "- Multiprocessing"
   ],
   "metadata": {
    "collapsed": false,
    "pycharm": {
     "name": "#%% md\n"
    }
   }
  },
  {
   "cell_type": "code",
   "execution_count": 6,
   "outputs": [
    {
     "name": "stdout",
     "output_type": "stream",
     "text": [
      "Total number of batches 2000\n",
      "Total images in this batch:50\n",
      "Total labels in this batch:50\n"
     ]
    }
   ],
   "source": [
    "from torch.utils.data import DataLoader\n",
    "\n",
    "# dataset = TinyImagenet()\n",
    "train_dataloader = DataLoader(dataset, batch_size=50, shuffle=True)\n",
    "print(\"Total number of batches %s\" % len(train_dataloader))\n",
    "for elem in train_dataloader:\n",
    "    print(\"Total images in this batch:%s\" % len(elem[0]))\n",
    "    print(\"Total labels in this batch:%s\" % len(elem[1]))\n",
    "    break\n"
   ],
   "metadata": {
    "collapsed": false,
    "pycharm": {
     "name": "#%%\n"
    }
   }
  }
 ],
 "metadata": {
  "kernelspec": {
   "display_name": "Python 3",
   "language": "python",
   "name": "python3"
  },
  "language_info": {
   "codemirror_mode": {
    "name": "ipython",
    "version": 2
   },
   "file_extension": ".py",
   "mimetype": "text/x-python",
   "name": "python",
   "nbconvert_exporter": "python",
   "pygments_lexer": "ipython2",
   "version": "2.7.6"
  }
 },
 "nbformat": 4,
 "nbformat_minor": 0
}