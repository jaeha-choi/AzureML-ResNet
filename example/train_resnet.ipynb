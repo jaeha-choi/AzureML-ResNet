{
 "cells": [
  {
   "cell_type": "code",
   "source": [
    "import torch.nn as nn\n",
    "import torch.optim as opt\n",
    "from torch.utils.data import DataLoader\n",
    "\n",
    "from src.resnet50_15 import Resnet50v15, Resnet50v15Classifier\n",
    "from util.tiny_imagenet import TinyImagenet\n",
    "\n",
    "# ------- Model parameters ------- #\n",
    "EPOCH = 1\n",
    "LEARNING_RATE = 0.1\n",
    "BATCH_SIZE = 4\n",
    "SHUFFLE_DATA = True\n",
    "\n",
    "dataset = TinyImagenet()\n",
    "train_dataloader = DataLoader(dataset, batch_size=BATCH_SIZE, shuffle=SHUFFLE_DATA)\n",
    "\n",
    "# image = torch.randn(8, 3, 224, 224)\n",
    "\n",
    "resnet = Resnet50v15()\n",
    "resnet_classifier = Resnet50v15Classifier(resnet, 200)\n",
    "\n",
    "loss_fn = nn.CrossEntropyLoss()\n",
    "optimizer = opt.SGD(resnet_classifier.parameters(), lr=LEARNING_RATE, momentum=0.9, weight_decay=0.0001)\n",
    "scheduler = opt.lr_scheduler.ReduceLROnPlateau(optimizer, mode=\"min\", factor=0.1, patience=10)\n",
    "\n",
    "for epoch in range(EPOCH):\n",
    "    print(\"\\nEpoch: %s\" % (epoch + 1))\n",
    "    running_loss = 0\n",
    "    for i, (img, label) in enumerate(train_dataloader):\n",
    "        # Train models here\n",
    "        optimizer.zero_grad()\n",
    "        loss = loss_fn(resnet_classifier(img), label)\n",
    "        loss.backward()\n",
    "        scheduler.step(loss)\n",
    "\n",
    "        running_loss += loss.item()\n",
    "        if (i + 1) % 1 == 0:\n",
    "            print(\"Epoch: %s\\tBatch: %s\\tLoss: %s\" % (epoch + 1, i + 1, running_loss))\n",
    "        break\n",
    "    break\n",
    "\n"
   ],
   "outputs": [
    {
     "name": "stdout",
     "output_type": "stream",
     "text": [
      "\n",
      "Epoch: 1\n",
      "Epoch: 1\tBatch: 1\tLoss: 5.297957420349121\n"
     ]
    }
   ],
   "execution_count": 5,
   "metadata": {
    "collapsed": true,
    "jupyter": {
     "source_hidden": false,
     "outputs_hidden": false
    },
    "nteract": {
     "transient": {
      "deleting": false
     }
    },
    "gather": {
     "logged": 1620538058074
    }
   }
  }
 ],
 "metadata": {
  "kernelspec": {
   "name": "python3",
   "language": "python",
   "display_name": "Python 3"
  },
  "language_info": {
   "name": "python",
   "version": "3.6.9",
   "mimetype": "text/x-python",
   "codemirror_mode": {
    "name": "ipython",
    "version": 3
   },
   "pygments_lexer": "ipython3",
   "nbconvert_exporter": "python",
   "file_extension": ".py"
  },
  "kernel_info": {
   "name": "python3-azureml"
  },
  "microsoft": {
   "host": {
    "AzureML": {
     "notebookHasBeenCompleted": true
    }
   }
  },
  "nteract": {
   "version": "nteract-front-end@1.0.0"
  }
 },
 "nbformat": 4,
 "nbformat_minor": 2
}